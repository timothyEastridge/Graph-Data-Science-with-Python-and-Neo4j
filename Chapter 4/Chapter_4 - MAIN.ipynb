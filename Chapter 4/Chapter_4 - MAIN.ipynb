{
 "cells": [
  {
   "cell_type": "code",
   "execution_count": null,
   "metadata": {},
   "outputs": [],
   "source": [
    "# Setup\n",
    "from neo4j import GraphDatabase\n",
    "from graphdatascience import GraphDataScience\n",
    "import pandas as pd\n",
    "from getpass import getpass\n",
    "\n",
    "# Set the display options\n",
    "pd.set_option('display.max_columns', None)\n",
    "pd.set_option('display.expand_frame_repr', False)\n",
    "pd.set_option('max_colwidth', None)\n",
    "\n",
    "# Connect to Neo4j\n",
    "uri = \"bolt://localhost:7687\"\n",
    "user = \"neo4j\"\n",
    "password = getpass()\n",
    "\n",
    "gds = GraphDataScience(uri, auth=(user,password))\n",
    "gds.set_database(\"neo4j\")"
   ]
  },
  {
   "cell_type": "code",
   "execution_count": null,
   "metadata": {},
   "outputs": [],
   "source": [
    "# Create data with Cypher\n",
    "gds.run_cypher(\"\"\"\n",
    "MERGE (mitch:Individual {name: 'Mitch'})\n",
    "\n",
    "MERGE (carl:Individual {name: 'Carl'}),\n",
    "       (nathan:Individual {name: 'Nathan'}),\n",
    "       (sophia:Individual {name: 'Sophia'}),\n",
    "       (emma:Individual {name: 'Emma'}),\n",
    "       (olivia:Individual {name: 'Olivia'}),\n",
    "       (james:Individual {name: 'James'}),\n",
    "       (michael:Individual {name: 'Michael'}),\n",
    "       (emily:Individual {name: 'Emily'}),\n",
    "       (madison:Individual {name: 'Madison'}),\n",
    "       (david:Individual {name: 'David'}),\n",
    "\n",
    "       (mitch)-[:FRIEND_OF]->(carl),\n",
    "       (mitch)-[:FRIEND_OF]->(sophia),\n",
    "       (mitch)-[:FRIEND_OF]->(emma),\n",
    "       (mitch)-[:FRIEND_OF]->(olivia),\n",
    "       (mitch)-[:FRIEND_OF]->(james),\n",
    "       (mitch)-[:FRIEND_OF]->(michael),\n",
    "       (mitch)-[:FRIEND_OF]->(emily),\n",
    "       (mitch)-[:FRIEND_OF]->(madison),\n",
    "       (mitch)-[:FRIEND_OF]->(david),\n",
    "\n",
    "       (carl)-[:FRIEND_OF]->(nathan);\n",
    "\n",
    "\"\"\")"
   ]
  },
  {
   "cell_type": "markdown",
   "metadata": {},
   "source": [
    "## Queries to Execute in Neo4j Browser"
   ]
  },
  {
   "cell_type": "code",
   "execution_count": null,
   "metadata": {},
   "outputs": [],
   "source": [
    "// Return a single node based on WHERE clause.  Run in Browser, not Jupyter Notebook\n",
    "MATCH (n1:Individual)\n",
    "WHERE n1.name = 'Mitch'\n",
    "RETURN *                        //return everything \n",
    "LIMIT 25\n",
    ";"
   ]
  },
  {
   "cell_type": "code",
   "execution_count": null,
   "metadata": {},
   "outputs": [],
   "source": [
    "// Return a collection of all Individuals matching this pattern\n",
    "MATCH (n:Individual)\n",
    "RETURN count(n) as Number_of_Individuals, collect(n.name) as Names\n",
    ";"
   ]
  },
  {
   "cell_type": "code",
   "execution_count": null,
   "metadata": {},
   "outputs": [],
   "source": [
    "MATCH (n1:Individual)-[r:FRIEND_OF]-(n2:Individual)\n",
    "RETURN *"
   ]
  },
  {
   "cell_type": "code",
   "execution_count": null,
   "metadata": {},
   "outputs": [],
   "source": [
    "MATCH (n1:Individual)-[r:FRIEND_OF]-(n2:Individual)\n",
    "RETURN n1.name as source_name, type(r) as Relationship_Type, n2.name as target_name"
   ]
  },
  {
   "cell_type": "code",
   "execution_count": null,
   "metadata": {},
   "outputs": [],
   "source": []
  },
  {
   "cell_type": "markdown",
   "metadata": {},
   "source": [
    "## Switch to the Recipe Dataset"
   ]
  },
  {
   "cell_type": "code",
   "execution_count": null,
   "metadata": {},
   "outputs": [],
   "source": [
    ":use recipe"
   ]
  },
  {
   "cell_type": "code",
   "execution_count": null,
   "metadata": {},
   "outputs": [],
   "source": [
    "CREATE INDEX Recipe_Title IF NOT EXISTS FOR (n:Recipe) ON (n.Recipe_Title) "
   ]
  },
  {
   "cell_type": "code",
   "execution_count": null,
   "metadata": {},
   "outputs": [],
   "source": [
    ":show index"
   ]
  },
  {
   "cell_type": "code",
   "execution_count": null,
   "metadata": {},
   "outputs": [],
   "source": [
    "MATCH (r:Recipe)\n",
    "WHERE r.Recipe_Title CONTAINS 'cornbread'\n",
    "RETURN *\n",
    "LIMIT 100"
   ]
  },
  {
   "cell_type": "code",
   "execution_count": null,
   "metadata": {},
   "outputs": [],
   "source": [
    "MATCH (r:Recipe)\n",
    "WHERE r.Recipe_Title CONTAINS 'cornbread'\n",
    "RETURN count(*) as cornbread_count"
   ]
  },
  {
   "cell_type": "code",
   "execution_count": null,
   "metadata": {},
   "outputs": [],
   "source": [
    "MATCH (recipe)-[r:USES]->(i:Ingredient)\n",
    "WHERE recipe.Recipe_Title CONTAINS 'cornbread'\n",
    "RETURN recipe.Recipe_Title as Recipe_Title\n",
    ", recipe.Directions as Directions\n",
    ", collect(i.Ingredient_Name) as Ingredients\n",
    "LIMIT 1"
   ]
  },
  {
   "cell_type": "code",
   "execution_count": null,
   "metadata": {},
   "outputs": [],
   "source": [
    "gds.set_database('recipe')"
   ]
  },
  {
   "cell_type": "code",
   "execution_count": null,
   "metadata": {},
   "outputs": [],
   "source": [
    "gds.run_cypher(\"\"\" \n",
    "MATCH (recipe:Recipe)-[:USES]->(i:Ingredient)\n",
    "WHERE i.Ingredient_Name IN ['almonds', 'walnuts']\n",
    "    AND recipe.Recipe_Title CONTAINS 'spice'\n",
    "WITH recipe, collect(i.Ingredient_Name) as ingredients\n",
    "WHERE all(ingredient IN ['almonds', 'walnuts'] WHERE ingredient IN ingredients)\n",
    "RETURN recipe.Recipe_Title as Recipe_Title, recipe.Directions as Directions, recipe.Link as Link\n",
    "LIMIT 10\n",
    "\"\"\")"
   ]
  },
  {
   "cell_type": "code",
   "execution_count": null,
   "metadata": {},
   "outputs": [],
   "source": [
    "gds.run_cypher(\"\"\" \n",
    "MATCH (recipe)-[r:USES]->(i:Ingredient)\n",
    "WHERE recipe.Recipe_Title CONTAINS 'cornbread'\n",
    "    AND size(recipe.Directions) > 500\n",
    "    AND i.Ingredient_Name <> 'sharp cheese'\n",
    "RETURN recipe.Recipe_Title as Recipe_Title\n",
    ", recipe.Directions as Directions\n",
    ", collect(i.Ingredient_Name) as Ingredients\n",
    "ORDER BY Recipe_Title\n",
    "LIMIT 3\n",
    "\"\"\")"
   ]
  },
  {
   "cell_type": "code",
   "execution_count": null,
   "metadata": {},
   "outputs": [],
   "source": [
    "gds.run_cypher(\"\"\" \n",
    "MATCH (recipe)-[r:USES]->(i:Ingredient)\n",
    "WHERE recipe.Recipe_Title CONTAINS 'cornbread'\n",
    "WITH recipe, apoc.node.degree(recipe) as degree\n",
    "SET recipe.degree = degree\n",
    "\"\"\")"
   ]
  },
  {
   "cell_type": "code",
   "execution_count": null,
   "metadata": {},
   "outputs": [],
   "source": [
    "gds.run_cypher(\"\"\" \n",
    "MATCH (r1:Recipe)-[:USES]->(i:Ingredient)<-[:USES]-(r2:Recipe) \n",
    "WHERE r1.degree > 10 \n",
    "    AND r2.degree > 10\n",
    "    AND id(r1) < id(r2) \n",
    "RETURN count(distinct r1) as Recipe_Count\n",
    "\"\"\")"
   ]
  },
  {
   "cell_type": "code",
   "execution_count": null,
   "metadata": {},
   "outputs": [],
   "source": [
    "gds.run_cypher(\"\"\" \n",
    "CALL gds.graph.project.cypher(\n",
    "    'cornbreadGraph',\n",
    "    'MATCH (r:Recipe) WHERE r.degree > 10 RETURN id(r) AS id',\n",
    "    'MATCH (r1:Recipe)-[:USES]->(i:Ingredient)<-[:USES]-(r2:Recipe) \n",
    "     WHERE r1.degree > 10 AND r2.degree > 10 \n",
    "     RETURN id(r1) AS source, id(r2) AS target'\n",
    ");\n",
    "\"\"\")"
   ]
  },
  {
   "cell_type": "code",
   "execution_count": null,
   "metadata": {},
   "outputs": [],
   "source": [
    "gds.run_cypher(\"\"\" \n",
    "CALL gds.nodeSimilarity.write('cornbreadGraph', {\n",
    "    writeRelationshipType: 'SIMILAR_TO',\n",
    "    writeProperty: 'similarity',\n",
    "    similarityCutoff: 0.90\n",
    "})\n",
    "YIELD nodesCompared, relationshipsWritten;\n",
    "\"\"\")"
   ]
  },
  {
   "cell_type": "code",
   "execution_count": null,
   "metadata": {},
   "outputs": [],
   "source": [
    "gds.run_cypher(\"\"\" \n",
    "CALL gds.graph.drop('cornbreadGraph');\n",
    "\"\"\")"
   ]
  },
  {
   "cell_type": "code",
   "execution_count": null,
   "metadata": {},
   "outputs": [],
   "source": []
  }
 ],
 "metadata": {
  "kernelspec": {
   "display_name": "Python 3 (ipykernel)",
   "language": "python",
   "name": "python3"
  },
  "language_info": {
   "codemirror_mode": {
    "name": "ipython",
    "version": 3
   },
   "file_extension": ".py",
   "mimetype": "text/x-python",
   "name": "python",
   "nbconvert_exporter": "python",
   "pygments_lexer": "ipython3",
   "version": "3.11.5"
  }
 },
 "nbformat": 4,
 "nbformat_minor": 4
}

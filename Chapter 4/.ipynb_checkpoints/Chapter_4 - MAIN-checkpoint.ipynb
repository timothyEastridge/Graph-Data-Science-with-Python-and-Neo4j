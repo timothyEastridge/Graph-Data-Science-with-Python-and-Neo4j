{
 "cells": [
  {
   "cell_type": "code",
   "execution_count": null,
   "metadata": {},
   "outputs": [],
   "source": [
    "# Setup\n",
    "from neo4j import GraphDatabase\n",
    "from graphdatascience import GraphDataScience\n",
    "import pandas as pd\n",
    "from getpass import getpass\n",
    "\n",
    "# Set the display options\n",
    "pd.set_option('display.max_columns', None)\n",
    "pd.set_option('display.expand_frame_repr', False)\n",
    "pd.set_option('max_colwidth', None)\n",
    "\n",
    "# Connect to Neo4j\n",
    "uri = \"bolt://localhost:7687\"\n",
    "user = \"neo4j\"\n",
    "password = getpass()\n",
    "\n",
    "gds = GraphDataScience(uri, auth=(user,password))\n",
    "gds.set_database(\"neo4j\")"
   ]
  },
  {
   "cell_type": "code",
   "execution_count": 5,
   "metadata": {},
   "outputs": [
    {
     "data": {
      "text/html": [
       "<div>\n",
       "<style scoped>\n",
       "    .dataframe tbody tr th:only-of-type {\n",
       "        vertical-align: middle;\n",
       "    }\n",
       "\n",
       "    .dataframe tbody tr th {\n",
       "        vertical-align: top;\n",
       "    }\n",
       "\n",
       "    .dataframe thead th {\n",
       "        text-align: right;\n",
       "    }\n",
       "</style>\n",
       "<table border=\"1\" class=\"dataframe\">\n",
       "  <thead>\n",
       "    <tr style=\"text-align: right;\">\n",
       "      <th></th>\n",
       "    </tr>\n",
       "  </thead>\n",
       "  <tbody>\n",
       "  </tbody>\n",
       "</table>\n",
       "</div>"
      ],
      "text/plain": [
       "Empty DataFrame\n",
       "Columns: []\n",
       "Index: []"
      ]
     },
     "execution_count": 5,
     "metadata": {},
     "output_type": "execute_result"
    }
   ],
   "source": [
    "# Create data with Cypher\n",
    "gds.run_cypher(\"\"\"\n",
    "MERGE (mitch:Individual {name: 'Mitch'})\n",
    "\n",
    "MERGE (carl:Individual {name: 'Carl'}),\n",
    "       (nathan:Individual {name: 'Nathan'}),\n",
    "       (sophia:Individual {name: 'Sophia'}),\n",
    "       (emma:Individual {name: 'Emma'}),\n",
    "       (olivia:Individual {name: 'Olivia'}),\n",
    "       (james:Individual {name: 'James'}),\n",
    "       (michael:Individual {name: 'Michael'}),\n",
    "       (emily:Individual {name: 'Emily'}),\n",
    "       (madison:Individual {name: 'Madison'}),\n",
    "       (david:Individual {name: 'David'}),\n",
    "\n",
    "       (mitch)-[:FRIEND_OF]->(carl),\n",
    "       (mitch)-[:FRIEND_OF]->(sophia),\n",
    "       (mitch)-[:FRIEND_OF]->(emma),\n",
    "       (mitch)-[:FRIEND_OF]->(olivia),\n",
    "       (mitch)-[:FRIEND_OF]->(james),\n",
    "       (mitch)-[:FRIEND_OF]->(michael),\n",
    "       (mitch)-[:FRIEND_OF]->(emily),\n",
    "       (mitch)-[:FRIEND_OF]->(madison),\n",
    "       (mitch)-[:FRIEND_OF]->(david),\n",
    "\n",
    "       (carl)-[:FRIEND_OF]->(nathan);\n",
    "\n",
    "\"\"\")"
   ]
  },
  {
   "cell_type": "markdown",
   "metadata": {},
   "source": [
    "## Queries to Execute in Neo4j Browser"
   ]
  },
  {
   "cell_type": "code",
   "execution_count": null,
   "metadata": {},
   "outputs": [],
   "source": [
    "// Return a single node based on WHERE clause.  Run in Browser, not Jupyter Notebook\n",
    "MATCH (n1:Individual)\n",
    "WHERE n1.name = 'Mitch'\n",
    "RETURN *                        //return everything \n",
    "LIMIT 25\n",
    ";"
   ]
  },
  {
   "cell_type": "code",
   "execution_count": null,
   "metadata": {},
   "outputs": [],
   "source": [
    "// Return a collection of all Individuals matching this pattern\n",
    "MATCH (n:Individual)\n",
    "RETURN count(n) as Number_of_Individuals, collect(n.name) as Names\n",
    ";"
   ]
  },
  {
   "cell_type": "code",
   "execution_count": null,
   "metadata": {},
   "outputs": [],
   "source": [
    "MATCH (n1:Individual)-[r:FRIEND_OF]-(n2:Individual)\n",
    "RETURN *"
   ]
  },
  {
   "cell_type": "code",
   "execution_count": null,
   "metadata": {},
   "outputs": [],
   "source": [
    "MATCH (n1:Individual)-[r:FRIEND_OF]-(n2:Individual)\n",
    "RETURN n1.name as source_name, type(r) as Relationship_Type, n2.name as target_name"
   ]
  },
  {
   "cell_type": "code",
   "execution_count": null,
   "metadata": {},
   "outputs": [],
   "source": []
  },
  {
   "cell_type": "markdown",
   "metadata": {},
   "source": [
    "## Switch to the Recipe Dataset"
   ]
  },
  {
   "cell_type": "code",
   "execution_count": null,
   "metadata": {},
   "outputs": [],
   "source": [
    ":use recipe"
   ]
  },
  {
   "cell_type": "code",
   "execution_count": null,
   "metadata": {},
   "outputs": [],
   "source": [
    "CREATE INDEX Recipe_Title IF NOT EXISTS FOR (n:Recipe) ON (n.Recipe_Title) "
   ]
  },
  {
   "cell_type": "code",
   "execution_count": null,
   "metadata": {},
   "outputs": [],
   "source": [
    ":show index"
   ]
  },
  {
   "cell_type": "code",
   "execution_count": null,
   "metadata": {},
   "outputs": [],
   "source": [
    "MATCH (r:Recipe)\n",
    "WHERE r.Recipe_Title CONTAINS 'cornbread'\n",
    "RETURN *\n",
    "LIMIT 100"
   ]
  },
  {
   "cell_type": "code",
   "execution_count": null,
   "metadata": {},
   "outputs": [],
   "source": [
    "MATCH (r:Recipe)\n",
    "WHERE r.Recipe_Title CONTAINS 'cornbread'\n",
    "RETURN count(*) as cornbread_count"
   ]
  },
  {
   "cell_type": "code",
   "execution_count": null,
   "metadata": {},
   "outputs": [],
   "source": [
    "MATCH (recipe)-[r:USES]->(i:Ingredient)\n",
    "WHERE recipe.Recipe_Title CONTAINS 'cornbread'\n",
    "RETURN recipe.Recipe_Title as Recipe_Title\n",
    ", recipe.Directions as Directions\n",
    ", collect(i.Ingredient_Name) as Ingredients\n",
    "LIMIT 1"
   ]
  },
  {
   "cell_type": "code",
   "execution_count": 8,
   "metadata": {},
   "outputs": [],
   "source": [
    "gds.set_database('recipe')"
   ]
  },
  {
   "cell_type": "code",
   "execution_count": 13,
   "metadata": {},
   "outputs": [
    {
     "data": {
      "text/html": [
       "<div>\n",
       "<style scoped>\n",
       "    .dataframe tbody tr th:only-of-type {\n",
       "        vertical-align: middle;\n",
       "    }\n",
       "\n",
       "    .dataframe tbody tr th {\n",
       "        vertical-align: top;\n",
       "    }\n",
       "\n",
       "    .dataframe thead th {\n",
       "        text-align: right;\n",
       "    }\n",
       "</style>\n",
       "<table border=\"1\" class=\"dataframe\">\n",
       "  <thead>\n",
       "    <tr style=\"text-align: right;\">\n",
       "      <th></th>\n",
       "      <th>Recipe_Title</th>\n",
       "      <th>Directions</th>\n",
       "      <th>Ingredients</th>\n",
       "    </tr>\n",
       "  </thead>\n",
       "  <tbody>\n",
       "    <tr>\n",
       "      <th>0</th>\n",
       "      <td>\"first\" skillet cornbread</td>\n",
       "      <td>heat oven to 400 degrees f, in 8 cast iron skillet over medium heat, cook bacon until crisp transfer to paper towles to drain crumble, remove all but 1 12 teaspoons bacon drippings, brush sides and bottom of pan with remaining drippings, place skillet in over for 5 minutes, meanwhile, in medium bowl, stir together cornbread mix, mexicorn, jalepeno, egg, cheese, milk, and bacon until combined, spoon batter into heated skillet and bake 15 minutes, or until golden, trade the jalapenos and cheese for fillings that taste best with your summer feast, garlic lover stir 2oz shredded provolone cheese, 1tsp italian seasoning, and 1 clove minced garlic into batter until just combined, like it hot stir 2 oz diced or shredded pepper jack cheese, 12 teaspoons southwest chipotle seasoning like mrs dash, and 1 tsp whole mexican oregano,like mccormick, into batter until just combined, subtle more your style stir 2oz shredded gruyere cheese, 1tsp herbes de provence and 12 teaspoons seasoned pepper blend into batter until just combined</td>\n",
       "      <td>[egg, milk, corn, bacon, cheddar cheese, jalapeno pepper]</td>\n",
       "    </tr>\n",
       "    <tr>\n",
       "      <th>1</th>\n",
       "      <td>\"hot\" mexican cornbread</td>\n",
       "      <td>preheat oven to 400, brown and drain ground chuck, then add the salt and pepper seasoning along with chopped onion, cook slowly until ground beef and onion have cooked through, pour crisco in a 13 x 9inch cake pan and heat, when crisco is hot, pour about half into cornbread batter and mix, then pour about 12 of batter into pan, add your ground chuck and seasonings, then add your drained mexican corn, slice velveeta cheese to cover mixture, then add remaining cornbread batter, cook until golden brown allow to cool cut into squares</td>\n",
       "      <td>[batch, Velveeta cheese, salt, ground chuck, liquid, onion, corn]</td>\n",
       "    </tr>\n",
       "    <tr>\n",
       "      <th>2</th>\n",
       "      <td>\"jiffy\" roasted corn and jalapeno cornbread</td>\n",
       "      <td>melt butter in a saute pan, add the corn, onion and red pepper and saute on medium heat until some of the corn kernels start to turn golden brown, whisk egg, corn liquid, and cream together, stir into corn muffin mix with a fork, stir in diced jalapenos and cheddar cheese, quickly stir in hot sauteed corn and onion mixture, just mixing in slightly, pour into 8 x 8 buttered baking dish, bake at 350 for 15 minutes, remove cornbread, turn off oven, drizzle cornbread with honey and put back in hot oven for 5 minutes if you prefer not to use honey just bake for a total of 20 minutes, remove from oven and let stand for 10 minutes before serving, note you may want to use 112 cups frozen corn in place of the canned corn just use 14 cup milk in place of the 14 cup reserved corn liquid</td>\n",
       "      <td>[honey, heavy cream, red bell pepper, butter, egg, whole kernel corn, corn muffin, jalapenos, onion, cheddar cheese]</td>\n",
       "    </tr>\n",
       "  </tbody>\n",
       "</table>\n",
       "</div>"
      ],
      "text/plain": [
       "                                  Recipe_Title                                                                                                                                                                                                                                                                                                                                                                                                                                                                                                                                                                                                                                                                                                                                                                                                                                                                                                                                                                                                                                                                Directions                                                                                                           Ingredients\n",
       "0                    \"first\" skillet cornbread  heat oven to 400 degrees f, in 8 cast iron skillet over medium heat, cook bacon until crisp transfer to paper towles to drain crumble, remove all but 1 12 teaspoons bacon drippings, brush sides and bottom of pan with remaining drippings, place skillet in over for 5 minutes, meanwhile, in medium bowl, stir together cornbread mix, mexicorn, jalepeno, egg, cheese, milk, and bacon until combined, spoon batter into heated skillet and bake 15 minutes, or until golden, trade the jalapenos and cheese for fillings that taste best with your summer feast, garlic lover stir 2oz shredded provolone cheese, 1tsp italian seasoning, and 1 clove minced garlic into batter until just combined, like it hot stir 2 oz diced or shredded pepper jack cheese, 12 teaspoons southwest chipotle seasoning like mrs dash, and 1 tsp whole mexican oregano,like mccormick, into batter until just combined, subtle more your style stir 2oz shredded gruyere cheese, 1tsp herbes de provence and 12 teaspoons seasoned pepper blend into batter until just combined                                                             [egg, milk, corn, bacon, cheddar cheese, jalapeno pepper]\n",
       "1                      \"hot\" mexican cornbread                                                                                                                                                                                                                                                                                                                                                                                                                                                                                                                   preheat oven to 400, brown and drain ground chuck, then add the salt and pepper seasoning along with chopped onion, cook slowly until ground beef and onion have cooked through, pour crisco in a 13 x 9inch cake pan and heat, when crisco is hot, pour about half into cornbread batter and mix, then pour about 12 of batter into pan, add your ground chuck and seasonings, then add your drained mexican corn, slice velveeta cheese to cover mixture, then add remaining cornbread batter, cook until golden brown allow to cool cut into squares                                                     [batch, Velveeta cheese, salt, ground chuck, liquid, onion, corn]\n",
       "2  \"jiffy\" roasted corn and jalapeno cornbread                                                                                                                                                                                                                                                        melt butter in a saute pan, add the corn, onion and red pepper and saute on medium heat until some of the corn kernels start to turn golden brown, whisk egg, corn liquid, and cream together, stir into corn muffin mix with a fork, stir in diced jalapenos and cheddar cheese, quickly stir in hot sauteed corn and onion mixture, just mixing in slightly, pour into 8 x 8 buttered baking dish, bake at 350 for 15 minutes, remove cornbread, turn off oven, drizzle cornbread with honey and put back in hot oven for 5 minutes if you prefer not to use honey just bake for a total of 20 minutes, remove from oven and let stand for 10 minutes before serving, note you may want to use 112 cups frozen corn in place of the canned corn just use 14 cup milk in place of the 14 cup reserved corn liquid  [honey, heavy cream, red bell pepper, butter, egg, whole kernel corn, corn muffin, jalapenos, onion, cheddar cheese]"
      ]
     },
     "execution_count": 13,
     "metadata": {},
     "output_type": "execute_result"
    }
   ],
   "source": [
    "gds.run_cypher(\"\"\" \n",
    "MATCH (recipe:Recipe)-[:USES]->(i:Ingredient)\n",
    "WHERE i.Ingredient_Name IN ['almonds', 'walnuts']\n",
    "    AND recipe.Recipe_Title CONTAINS 'spice'\n",
    "WITH recipe, collect(i.Ingredient_Name) as ingredients\n",
    "WHERE all(ingredient IN ['almonds', 'walnuts'] WHERE ingredient IN ingredients)\n",
    "RETURN recipe.Recipe_Title as Recipe_Title, recipe.Directions as Directions, recipe.Link as Link\n",
    "LIMIT 10\n",
    "\"\"\")"
   ]
  },
  {
   "cell_type": "code",
   "execution_count": 13,
   "metadata": {},
   "outputs": [
    {
     "data": {
      "text/html": [
       "<div>\n",
       "<style scoped>\n",
       "    .dataframe tbody tr th:only-of-type {\n",
       "        vertical-align: middle;\n",
       "    }\n",
       "\n",
       "    .dataframe tbody tr th {\n",
       "        vertical-align: top;\n",
       "    }\n",
       "\n",
       "    .dataframe thead th {\n",
       "        text-align: right;\n",
       "    }\n",
       "</style>\n",
       "<table border=\"1\" class=\"dataframe\">\n",
       "  <thead>\n",
       "    <tr style=\"text-align: right;\">\n",
       "      <th></th>\n",
       "      <th>Recipe_Title</th>\n",
       "      <th>Directions</th>\n",
       "      <th>Ingredients</th>\n",
       "    </tr>\n",
       "  </thead>\n",
       "  <tbody>\n",
       "    <tr>\n",
       "      <th>0</th>\n",
       "      <td>\"first\" skillet cornbread</td>\n",
       "      <td>heat oven to 400 degrees f, in 8 cast iron skillet over medium heat, cook bacon until crisp transfer to paper towles to drain crumble, remove all but 1 12 teaspoons bacon drippings, brush sides and bottom of pan with remaining drippings, place skillet in over for 5 minutes, meanwhile, in medium bowl, stir together cornbread mix, mexicorn, jalepeno, egg, cheese, milk, and bacon until combined, spoon batter into heated skillet and bake 15 minutes, or until golden, trade the jalapenos and cheese for fillings that taste best with your summer feast, garlic lover stir 2oz shredded provolone cheese, 1tsp italian seasoning, and 1 clove minced garlic into batter until just combined, like it hot stir 2 oz diced or shredded pepper jack cheese, 12 teaspoons southwest chipotle seasoning like mrs dash, and 1 tsp whole mexican oregano,like mccormick, into batter until just combined, subtle more your style stir 2oz shredded gruyere cheese, 1tsp herbes de provence and 12 teaspoons seasoned pepper blend into batter until just combined</td>\n",
       "      <td>[egg, milk, corn, bacon, cheddar cheese, jalapeno pepper]</td>\n",
       "    </tr>\n",
       "    <tr>\n",
       "      <th>1</th>\n",
       "      <td>\"hot\" mexican cornbread</td>\n",
       "      <td>preheat oven to 400, brown and drain ground chuck, then add the salt and pepper seasoning along with chopped onion, cook slowly until ground beef and onion have cooked through, pour crisco in a 13 x 9inch cake pan and heat, when crisco is hot, pour about half into cornbread batter and mix, then pour about 12 of batter into pan, add your ground chuck and seasonings, then add your drained mexican corn, slice velveeta cheese to cover mixture, then add remaining cornbread batter, cook until golden brown allow to cool cut into squares</td>\n",
       "      <td>[batch, Velveeta cheese, salt, ground chuck, liquid, onion, corn]</td>\n",
       "    </tr>\n",
       "    <tr>\n",
       "      <th>2</th>\n",
       "      <td>\"jiffy\" roasted corn and jalapeno cornbread</td>\n",
       "      <td>melt butter in a saute pan, add the corn, onion and red pepper and saute on medium heat until some of the corn kernels start to turn golden brown, whisk egg, corn liquid, and cream together, stir into corn muffin mix with a fork, stir in diced jalapenos and cheddar cheese, quickly stir in hot sauteed corn and onion mixture, just mixing in slightly, pour into 8 x 8 buttered baking dish, bake at 350 for 15 minutes, remove cornbread, turn off oven, drizzle cornbread with honey and put back in hot oven for 5 minutes if you prefer not to use honey just bake for a total of 20 minutes, remove from oven and let stand for 10 minutes before serving, note you may want to use 112 cups frozen corn in place of the canned corn just use 14 cup milk in place of the 14 cup reserved corn liquid</td>\n",
       "      <td>[honey, heavy cream, red bell pepper, butter, egg, whole kernel corn, corn muffin, jalapenos, onion, cheddar cheese]</td>\n",
       "    </tr>\n",
       "  </tbody>\n",
       "</table>\n",
       "</div>"
      ],
      "text/plain": [
       "                                  Recipe_Title                                                                                                                                                                                                                                                                                                                                                                                                                                                                                                                                                                                                                                                                                                                                                                                                                                                                                                                                                                                                                                                                Directions                                                                                                           Ingredients\n",
       "0                    \"first\" skillet cornbread  heat oven to 400 degrees f, in 8 cast iron skillet over medium heat, cook bacon until crisp transfer to paper towles to drain crumble, remove all but 1 12 teaspoons bacon drippings, brush sides and bottom of pan with remaining drippings, place skillet in over for 5 minutes, meanwhile, in medium bowl, stir together cornbread mix, mexicorn, jalepeno, egg, cheese, milk, and bacon until combined, spoon batter into heated skillet and bake 15 minutes, or until golden, trade the jalapenos and cheese for fillings that taste best with your summer feast, garlic lover stir 2oz shredded provolone cheese, 1tsp italian seasoning, and 1 clove minced garlic into batter until just combined, like it hot stir 2 oz diced or shredded pepper jack cheese, 12 teaspoons southwest chipotle seasoning like mrs dash, and 1 tsp whole mexican oregano,like mccormick, into batter until just combined, subtle more your style stir 2oz shredded gruyere cheese, 1tsp herbes de provence and 12 teaspoons seasoned pepper blend into batter until just combined                                                             [egg, milk, corn, bacon, cheddar cheese, jalapeno pepper]\n",
       "1                      \"hot\" mexican cornbread                                                                                                                                                                                                                                                                                                                                                                                                                                                                                                                   preheat oven to 400, brown and drain ground chuck, then add the salt and pepper seasoning along with chopped onion, cook slowly until ground beef and onion have cooked through, pour crisco in a 13 x 9inch cake pan and heat, when crisco is hot, pour about half into cornbread batter and mix, then pour about 12 of batter into pan, add your ground chuck and seasonings, then add your drained mexican corn, slice velveeta cheese to cover mixture, then add remaining cornbread batter, cook until golden brown allow to cool cut into squares                                                     [batch, Velveeta cheese, salt, ground chuck, liquid, onion, corn]\n",
       "2  \"jiffy\" roasted corn and jalapeno cornbread                                                                                                                                                                                                                                                        melt butter in a saute pan, add the corn, onion and red pepper and saute on medium heat until some of the corn kernels start to turn golden brown, whisk egg, corn liquid, and cream together, stir into corn muffin mix with a fork, stir in diced jalapenos and cheddar cheese, quickly stir in hot sauteed corn and onion mixture, just mixing in slightly, pour into 8 x 8 buttered baking dish, bake at 350 for 15 minutes, remove cornbread, turn off oven, drizzle cornbread with honey and put back in hot oven for 5 minutes if you prefer not to use honey just bake for a total of 20 minutes, remove from oven and let stand for 10 minutes before serving, note you may want to use 112 cups frozen corn in place of the canned corn just use 14 cup milk in place of the 14 cup reserved corn liquid  [honey, heavy cream, red bell pepper, butter, egg, whole kernel corn, corn muffin, jalapenos, onion, cheddar cheese]"
      ]
     },
     "execution_count": 13,
     "metadata": {},
     "output_type": "execute_result"
    }
   ],
   "source": [
    "gds.run_cypher(\"\"\" \n",
    "MATCH (recipe)-[r:USES]->(i:Ingredient)\n",
    "WHERE recipe.Recipe_Title CONTAINS 'cornbread'\n",
    "    AND size(recipe.Directions) > 500\n",
    "    AND i.Ingredient_Name <> 'sharp cheese'\n",
    "RETURN recipe.Recipe_Title as Recipe_Title\n",
    ", recipe.Directions as Directions\n",
    ", collect(i.Ingredient_Name) as Ingredients\n",
    "ORDER BY Recipe_Title\n",
    "LIMIT 3\n",
    "\"\"\")"
   ]
  },
  {
   "cell_type": "code",
   "execution_count": 17,
   "metadata": {},
   "outputs": [
    {
     "data": {
      "text/html": [
       "<div>\n",
       "<style scoped>\n",
       "    .dataframe tbody tr th:only-of-type {\n",
       "        vertical-align: middle;\n",
       "    }\n",
       "\n",
       "    .dataframe tbody tr th {\n",
       "        vertical-align: top;\n",
       "    }\n",
       "\n",
       "    .dataframe thead th {\n",
       "        text-align: right;\n",
       "    }\n",
       "</style>\n",
       "<table border=\"1\" class=\"dataframe\">\n",
       "  <thead>\n",
       "    <tr style=\"text-align: right;\">\n",
       "      <th></th>\n",
       "      <th>Count_of_Updated_Recipes</th>\n",
       "    </tr>\n",
       "  </thead>\n",
       "  <tbody>\n",
       "    <tr>\n",
       "      <th>0</th>\n",
       "      <td>52713</td>\n",
       "    </tr>\n",
       "  </tbody>\n",
       "</table>\n",
       "</div>"
      ],
      "text/plain": [
       "   Count_of_Updated_Recipes\n",
       "0                     52713"
      ]
     },
     "execution_count": 17,
     "metadata": {},
     "output_type": "execute_result"
    }
   ],
   "source": [
    "gds.run_cypher(\"\"\" \n",
    "MATCH (recipe)-[r:USES]->(i:Ingredient)\n",
    "WHERE recipe.Recipe_Title CONTAINS 'cornbread'\n",
    "WITH recipe, apoc.node.degree(recipe) as degree\n",
    "SET recipe.degree = degree\n",
    "\"\"\")"
   ]
  },
  {
   "cell_type": "code",
   "execution_count": 17,
   "metadata": {},
   "outputs": [
    {
     "data": {
      "text/html": [
       "<div>\n",
       "<style scoped>\n",
       "    .dataframe tbody tr th:only-of-type {\n",
       "        vertical-align: middle;\n",
       "    }\n",
       "\n",
       "    .dataframe tbody tr th {\n",
       "        vertical-align: top;\n",
       "    }\n",
       "\n",
       "    .dataframe thead th {\n",
       "        text-align: right;\n",
       "    }\n",
       "</style>\n",
       "<table border=\"1\" class=\"dataframe\">\n",
       "  <thead>\n",
       "    <tr style=\"text-align: right;\">\n",
       "      <th></th>\n",
       "      <th>Count_of_Updated_Recipes</th>\n",
       "    </tr>\n",
       "  </thead>\n",
       "  <tbody>\n",
       "    <tr>\n",
       "      <th>0</th>\n",
       "      <td>52713</td>\n",
       "    </tr>\n",
       "  </tbody>\n",
       "</table>\n",
       "</div>"
      ],
      "text/plain": [
       "   Count_of_Updated_Recipes\n",
       "0                     52713"
      ]
     },
     "execution_count": 17,
     "metadata": {},
     "output_type": "execute_result"
    }
   ],
   "source": [
    "gds.run_cypher(\"\"\" \n",
    "CALL gds.graph.project.cypher(\n",
    "    'cornbreadGraph',\n",
    "    'MATCH (r:Recipe) WHERE toLower(r.Recipe_Title) CONTAINS \"cornbread\" RETURN id(r) AS id',\n",
    "    'MATCH (r1:Recipe)-[:USES]->(i:Ingredient)<-[:USES]-(r2:Recipe) \n",
    "     WHERE toLower(r1.Recipe_Title) CONTAINS \"cornbread\" AND toLower(r2.Recipe_Title) CONTAINS \"cornbread\"\n",
    "     RETURN id(r1) AS source, id(r2) AS target'\n",
    ");\n",
    "\"\"\")"
   ]
  },
  {
   "cell_type": "code",
   "execution_count": null,
   "metadata": {},
   "outputs": [],
   "source": []
  }
 ],
 "metadata": {
  "kernelspec": {
   "display_name": "Python 3",
   "language": "python",
   "name": "python3"
  },
  "language_info": {
   "codemirror_mode": {
    "name": "ipython",
    "version": 3
   },
   "file_extension": ".py",
   "mimetype": "text/x-python",
   "name": "python",
   "nbconvert_exporter": "python",
   "pygments_lexer": "ipython3",
   "version": "3.8.5"
  }
 },
 "nbformat": 4,
 "nbformat_minor": 4
}

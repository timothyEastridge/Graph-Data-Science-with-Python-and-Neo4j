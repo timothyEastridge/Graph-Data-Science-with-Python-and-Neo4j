{
 "cells": [
  {
   "cell_type": "code",
   "execution_count": 2,
   "id": "fcff7a40-03c4-4862-93a8-84dcdafa2964",
   "metadata": {
    "tags": []
   },
   "outputs": [],
   "source": [
    "import streamlit as st\n",
    "import pandas as pd\n",
    "from neo4j import GraphDatabase\n",
    "from graphdatascience import GraphDataScience\n",
    "import keyring\n",
    "from pandas import DataFrame\n",
    "from langchain.embeddings import OpenAIEmbeddings\n",
    "import yaml\n",
    "import os\n",
    "from langchain.prompts import PromptTemplate\n",
    "from langchain.chat_models import ChatOpenAI\n",
    "from langchain.chains import LLMChain, RetrievalQA\n",
    "from langchain.chains.conversation.memory import ConversationBufferMemory\n",
    "from langchain.agents import AgentType, initialize_agent\n",
    "from langchain.tools import Tool, YouTubeSearchTool\n",
    "from langchain.embeddings.openai import OpenAIEmbeddings\n",
    "from langchain.vectorstores.neo4j_vector import Neo4jVector\n",
    "from langchain.chat_models.openai import ChatOpenAI\n",
    "from langchain.graphs import Neo4jGraph\n",
    "from langchain.chains import GraphCypherQAChain\n",
    "from langchain.prompts import PromptTemplate\n",
    "\n",
    "\n",
    "# PARAMETERS\n",
    "# Neo4j connection parameters\n",
    "with open('config.yaml', 'r') as file:\n",
    "    cfg = yaml.safe_load(file)\n",
    "user = cfg['neo4j_user']\n",
    "uri = cfg['neo4j_db_uri']\n",
    "\n",
    "# keyring fetches from OS credential manager\n",
    "pw = keyring.get_password('eastridge', user)\n",
    "driver = GraphDatabase.driver(uri, auth=(user, pw))\n",
    "\n",
    "# OpenAI Setup\n",
    "os.environ['OPENAI_API_KEY'] = keyring.get_password('eastridge', 'openai')"
   ]
  },
  {
   "cell_type": "markdown",
   "id": "c2dfbe9d-fefe-4c76-910d-3e2ff8c33f70",
   "metadata": {},
   "source": [
    "# Similarity Search"
   ]
  },
  {
   "cell_type": "code",
   "execution_count": 3,
   "id": "0ad68b29-70a9-4a45-898e-b982b0ab0b9d",
   "metadata": {
    "tags": []
   },
   "outputs": [],
   "source": [
    "embedding_provider = OpenAIEmbeddings()\n",
    "\n",
    "patent_abstract_vector = Neo4jVector.from_existing_index(\n",
    "    embedding_provider,\n",
    "    url=uri,\n",
    "    username=user,\n",
    "    password=pw,\n",
    "    index_name=\"embeddingsindex\",\n",
    "    embedding_node_property=\"embedding\",\n",
    "    text_node_property=\"abstract\",\n",
    ")\n",
    "\n"
   ]
  },
  {
   "cell_type": "code",
   "execution_count": 4,
   "id": "83d4b12f-90c1-4016-91b2-fa2832e1463e",
   "metadata": {
    "tags": []
   },
   "outputs": [
    {
     "name": "stdout",
     "output_type": "stream",
     "text": [
      "[Document(page_content='A system for removing an occlusive clot from a blood vessel comprises a catheter and an apparatus for generating a pulsatile vacuum force to pulse the pressure gradient at a distal end of the catheter. The pulse generator may be integral with or separate from the vacuum pump. The pulse generator may be applied to a flexible tubing between the vacuum pump and the proximal end of the catheter.', metadata={'title': 'CLOT RETRIEVAL SYSTEM FOR REMOVING OCCLUSIVE CLOT FROM A BLOOD VESSEL', 'docnumber': 'US20230000510A1', 'date': neo4j.time.Date(2023, 1, 5), 'reducedEmbedding': [-0.020457884296774864, 0.015469152480363846, -0.14464735984802246, 0.03954287990927696, 0.013515464030206203, 0.0978100448846817, -0.013073090463876724, -0.048353053629398346, 0.13818566501140594, 0.10264269262552261, 0.10216636210680008, 0.01920410990715027, -0.011776513420045376, 0.08536525815725327, 0.002027187729254365, -0.020735934376716614, 0.07305675745010376, 0.011173881590366364, 0.016330532729625702, -0.01464966218918562, 0.03113110549747944, -0.056578125804662704, 0.020589403808116913, -0.009172608144581318, -0.004491833038628101, -0.038489751517772675, -0.02949289046227932, -0.01496964879333973, -0.013090834021568298, 0.00018424275913275778, 0.00527674425393343, 0.04110658913850784, -0.03492569923400879, 0.04172473028302193, 0.08540158718824387, -0.04459239915013313, 0.00022606740822084248, 0.05702244117856026, 0.011578801088035107, -0.044864170253276825, 0.07252390682697296, 0.01306674163788557, -0.08141456544399261, 0.029414206743240356, 0.04823128134012222, -0.03573672100901604, 0.017063139006495476, 0.00686497800052166, -0.03372376412153244, -0.03861934691667557, 0.03230622410774231, 0.0031731263734400272, 0.008816973306238651, -0.0030458024702966213, -0.047103915363550186, 0.0054201362654566765, 0.02068248949944973, 0.02994723804295063, 0.007774861063808203, 0.01082318089902401, -0.04195636510848999, -0.017148178070783615, 0.00038233763189055026, 0.06405164301395416, 0.0006142019992694259, -0.03012559749186039, 0.003960843663662672, -0.009160426445305347, -0.010968969203531742, -0.00631674425676465, 0.021763667464256287, -0.03246636688709259, -0.00019409223750699311, 0.002895849524065852, 0.011200277134776115, -0.0015139104798436165, -0.02030177041888237, -0.00020074252097401768, 0.07589421421289444, 0.02942405641078949, -0.03533052280545235, -0.005436206702142954, -0.011031817644834518, 0.016627367585897446, 0.00116113037802279, -0.01454060710966587, -0.020442048087716103, -0.011098682880401611, -0.012791262939572334, -0.0030264989472925663, -0.03206174075603485, 0.059148211032152176, 0.028594817966222763, -0.019190657883882523, -0.03133927658200264, -0.004675135016441345, -0.01495186984539032, 0.0060838572680950165, 0.027857476845383644, 0.021326566115021706]})]\n"
     ]
    }
   ],
   "source": [
    "# k=1, most similar response\n",
    "r = patent_abstract_vector.similarity_search(\"A system for removing an occlusive clot from a blood vessel.\", k=1)\n",
    "print(r)"
   ]
  },
  {
   "cell_type": "code",
   "execution_count": 35,
   "id": "f1fdda8a-8290-47a6-8e5b-fc32f7164c53",
   "metadata": {
    "tags": []
   },
   "outputs": [
    {
     "data": {
      "text/html": [
       "<div>\n",
       "<style scoped>\n",
       "    .dataframe tbody tr th:only-of-type {\n",
       "        vertical-align: middle;\n",
       "    }\n",
       "\n",
       "    .dataframe tbody tr th {\n",
       "        vertical-align: top;\n",
       "    }\n",
       "\n",
       "    .dataframe thead th {\n",
       "        text-align: right;\n",
       "    }\n",
       "</style>\n",
       "<table border=\"1\" class=\"dataframe\">\n",
       "  <thead>\n",
       "    <tr style=\"text-align: right;\">\n",
       "      <th></th>\n",
       "      <th>Title</th>\n",
       "    </tr>\n",
       "  </thead>\n",
       "  <tbody>\n",
       "    <tr>\n",
       "      <th>0</th>\n",
       "      <td>VIRTUAL REALITY SYSTEM</td>\n",
       "    </tr>\n",
       "    <tr>\n",
       "      <th>1</th>\n",
       "      <td>THREE DIMENSIONAL VIRTUAL AND AUGMENTED REALITY DISPLAY SYSTEM</td>\n",
       "    </tr>\n",
       "    <tr>\n",
       "      <th>2</th>\n",
       "      <td>SPORT TRAINING METHOD AND SYSTEM AND HEAD-MOUNTED VR DEVICE</td>\n",
       "    </tr>\n",
       "    <tr>\n",
       "      <th>3</th>\n",
       "      <td>VIRTUAL AND AUGMENTED REALITY SYSTEMS AND METHODS</td>\n",
       "    </tr>\n",
       "    <tr>\n",
       "      <th>4</th>\n",
       "      <td>AUGMENTED AND VIRTUAL REALITY DISPLAY SYSTEMS AND METHODS FOR DIAGNOSING HEALTH CONDITIONS BASED ON VISUAL FIELDS</td>\n",
       "    </tr>\n",
       "    <tr>\n",
       "      <th>...</th>\n",
       "      <td>...</td>\n",
       "    </tr>\n",
       "    <tr>\n",
       "      <th>995</th>\n",
       "      <td>LIQUID CRYSTAL DEVICE</td>\n",
       "    </tr>\n",
       "    <tr>\n",
       "      <th>996</th>\n",
       "      <td>APPARATUS AND METHOD FOR RENDERING A SOUND SCENE COMPRISING DISCRETIZED CURVED SURFACES</td>\n",
       "    </tr>\n",
       "    <tr>\n",
       "      <th>997</th>\n",
       "      <td>DISPLAY MODULE AND DISPLAY APPARATUS HAVING THE SAME</td>\n",
       "    </tr>\n",
       "    <tr>\n",
       "      <th>998</th>\n",
       "      <td>IMAGING APPARATUS, CONTROL METHOD FOR IMAGING APPARATUS, AND STORAGE MEDIUM</td>\n",
       "    </tr>\n",
       "    <tr>\n",
       "      <th>999</th>\n",
       "      <td>MOBILE-ASSISTED PICKER TECHNIQUES FOR IN-STORE NAVIGATION</td>\n",
       "    </tr>\n",
       "  </tbody>\n",
       "</table>\n",
       "<p>1000 rows × 1 columns</p>\n",
       "</div>"
      ],
      "text/plain": [
       "                                                                                                                 Title\n",
       "0                                                                                               VIRTUAL REALITY SYSTEM\n",
       "1                                                       THREE DIMENSIONAL VIRTUAL AND AUGMENTED REALITY DISPLAY SYSTEM\n",
       "2                                                          SPORT TRAINING METHOD AND SYSTEM AND HEAD-MOUNTED VR DEVICE\n",
       "3                                                                    VIRTUAL AND AUGMENTED REALITY SYSTEMS AND METHODS\n",
       "4    AUGMENTED AND VIRTUAL REALITY DISPLAY SYSTEMS AND METHODS FOR DIAGNOSING HEALTH CONDITIONS BASED ON VISUAL FIELDS\n",
       "..                                                                                                                 ...\n",
       "995                                                                                              LIQUID CRYSTAL DEVICE\n",
       "996                            APPARATUS AND METHOD FOR RENDERING A SOUND SCENE COMPRISING DISCRETIZED CURVED SURFACES\n",
       "997                                                               DISPLAY MODULE AND DISPLAY APPARATUS HAVING THE SAME\n",
       "998                                        IMAGING APPARATUS, CONTROL METHOD FOR IMAGING APPARATUS, AND STORAGE MEDIUM\n",
       "999                                                          MOBILE-ASSISTED PICKER TECHNIQUES FOR IN-STORE NAVIGATION\n",
       "\n",
       "[1000 rows x 1 columns]"
      ]
     },
     "metadata": {},
     "output_type": "display_data"
    }
   ],
   "source": [
    "r = patent_abstract_vector.similarity_search(\"An immersive VR system designed for education.\", k=1000)\n",
    "\n",
    "\n",
    "pd.set_option('display.max_columns', None)\n",
    "pd.set_option('display.width', None)\n",
    "pd.set_option('display.max_colwidth', None) \n",
    "\n",
    "data_list = []\n",
    "for document in r:\n",
    "    page_content = document.page_content\n",
    "    title = document.metadata['title']\n",
    "    data_list.append({'Title': title})\n",
    "\n",
    "\n",
    "\n",
    "df = pd.DataFrame(data_list)\n",
    "display(df)"
   ]
  },
  {
   "cell_type": "markdown",
   "id": "654d6b88-f994-43b7-bcc3-df41714f67b9",
   "metadata": {},
   "source": [
    "# Using a RetrievalQA"
   ]
  },
  {
   "cell_type": "code",
   "execution_count": 8,
   "id": "97490a64-97ed-40a5-8a8d-5d20dfb998f0",
   "metadata": {
    "tags": []
   },
   "outputs": [
    {
     "name": "stdout",
     "output_type": "stream",
     "text": [
      "\n",
      "\n",
      "\u001b[1m> Entering new RetrievalQA chain...\u001b[0m\n",
      "\n",
      "\u001b[1m> Finished chain.\u001b[0m\n"
     ]
    }
   ],
   "source": [
    "from langchain.chains import RetrievalQA\n",
    "from langchain.chat_models.openai import ChatOpenAI\n",
    "from langchain.embeddings.openai import OpenAIEmbeddings\n",
    "from langchain.vectorstores.neo4j_vector import Neo4jVector\n",
    "\n",
    "chat_llm = ChatOpenAI()\n",
    "\n",
    "patent_abstract_vector = Neo4jVector.from_existing_index(\n",
    "    embedding_provider,\n",
    "    url=uri,\n",
    "    username=user,\n",
    "    password=pw,\n",
    "    index_name=\"embeddingsindex\",\n",
    "    embedding_node_property=\"embedding\",\n",
    "    text_node_property=\"abstract\",\n",
    ")\n",
    "\n",
    "embedding_provider = OpenAIEmbeddings()\n",
    "\n",
    "retrievalQA = RetrievalQA.from_llm(\n",
    "    llm=chat_llm,\n",
    "    retriever=patent_abstract_vector.as_retriever(),\n",
    "    verbose=True,\n",
    "    return_source_documents=True\n",
    ")\n",
    "\n",
    "response = retrievalQA(f\"\"\"\n",
    "You are a patent expert. You provide insights and recommendations on patents based on their content, technology, and inventors.\n",
    "\n",
    "I am researching wearable technology for health monitoring. Can you recommend some patents that I should look into?\n",
    "\"\"\")\n"
   ]
  },
  {
   "cell_type": "code",
   "execution_count": 9,
   "id": "b4456e4b-7954-40fd-823b-7b5b9ee62ce1",
   "metadata": {
    "tags": []
   },
   "outputs": [
    {
     "name": "stdout",
     "output_type": "stream",
     "text": [
      "Based on your interest in wearable technology for health monitoring, here are a few patents that you may find relevant:\n",
      "\n",
      "1. Patent Title: \"Wearable device for providing therapy based on physiological parameters\"\n",
      "   Summary: This patent describes a system where a wearable device monitors physiological parameters of the user and triggers therapy automatically when certain thresholds are reached.\n",
      "   Patent Number: [Patent Number]\n",
      "\n",
      "2. Patent Title: \"System for wearable authentication and management\"\n",
      "   Summary: This patent discloses a system that uses biometric data or movement signatures to identify and authenticate users of wearable devices. It also includes features like provisioning connectivity services, associating devices with the user's ecosystem, and delivering communications to the wearable device.\n",
      "   Patent Number: [Patent Number]\n",
      "\n",
      "3. Patent Title: \"Wearable device with electrode unit and ventilation holes\"\n",
      "   Summary: This patent focuses on a specific wearable device design that includes a main body unit, an electrode unit connected to a battery, and a patch unit with conductive members for attaching the device to the user's skin. The patch unit also has ventilation holes for enhanced comfort.\n",
      "   Patent Number: [Patent Number]\n",
      "\n",
      "4. Patent Title: \"Method for analyzing exercise performance using real-time video and biometric data\"\n",
      "   Summary: This patent describes a method that captures real-time video of a user performing an exercise, displays it alongside an instructor's video for comparison, and analyzes the user's performance using image analysis and biometric data from a wearable device. It also provides heart rate-based scores and recommendations for different exercise classes.\n",
      "   Patent Number: [Patent Number]\n",
      "\n",
      "Please note that the actual patent numbers are missing from the context, so you would need to search for the respective patents using their titles or relevant keywords.\n"
     ]
    }
   ],
   "source": [
    "if 'result' in response:\n",
    "    print(response['result'])\n",
    "else:\n",
    "    print(\"No relevant result found.\")"
   ]
  },
  {
   "cell_type": "code",
   "execution_count": 10,
   "id": "6c80b2bc-e66c-4160-aad1-86fcb44b7711",
   "metadata": {
    "tags": []
   },
   "outputs": [],
   "source": [
    "\n",
    "technical_description = response['result'] if 'result' in response else None\n",
    "\n",
    "input_prompt = f\"Simplify the following in laymen's terms, in less than 200 tokens: {technical_description}\"\n",
    "simplified_response = chat_llm.predict(input_prompt)\n",
    "\n",
    "\n"
   ]
  },
  {
   "cell_type": "code",
   "execution_count": 38,
   "id": "91d5a594-309f-4992-807c-a94c6da6194e",
   "metadata": {
    "tags": []
   },
   "outputs": [
    {
     "data": {
      "text/plain": [
       "\"Here are some patents related to wearable technology for monitoring health. These patents describe different wearable devices and systems that can track and monitor various aspects of your health, such as vital signs and physiological data. They include features like sensors and remote monitoring capabilities. However, it's important to note that these are just references and you should do further research to find the patents that best match your specific interests and needs.\""
      ]
     },
     "execution_count": 38,
     "metadata": {},
     "output_type": "execute_result"
    }
   ],
   "source": [
    "simplified_response"
   ]
  },
  {
   "cell_type": "code",
   "execution_count": null,
   "id": "0b4947fd-cf8f-42f6-9cd4-d3e65803e006",
   "metadata": {},
   "outputs": [],
   "source": []
  },
  {
   "cell_type": "markdown",
   "id": "a9fdc85e-1633-4484-88ed-06e689cd50d0",
   "metadata": {},
   "source": [
    "# Query using Natural Language"
   ]
  },
  {
   "cell_type": "code",
   "execution_count": 14,
   "id": "f3f2aaa1-9d51-4ae0-8217-03afbaffd6c2",
   "metadata": {
    "tags": []
   },
   "outputs": [],
   "source": [
    "from langchain.chat_models import ChatOpenAI\n",
    "from langchain.graphs import Neo4jGraph\n",
    "from langchain.chains import GraphCypherQAChain\n",
    "from langchain.prompts import PromptTemplate\n",
    "\n",
    "graph = Neo4jGraph(\n",
    "    url=uri,\n",
    "    username=user,\n",
    "    password=pw,\n",
    ")\n",
    "\n",
    "CYPHER_GENERATION_TEMPLATE = \"\"\"\n",
    "You are an expert Neo4j Developer translating user questions into Cypher to answer questions about Patent recommendations.\n",
    "Convert the user's question based on the schema.\n",
    "\n",
    "Instructions:\n",
    "Use only the provided relationship types and properties in the schema.\n",
    "\n",
    "If no data is returned, do not attempt to answer the question.\n",
    "Only respond to questions that require you to construct a Cypher statement.\n",
    "Do not include any explanations or apologies in your responses.\n",
    "Return only a string response of answers to the query.\n",
    "\n",
    "Schema: {schema}\n",
    "Question: {question}\n",
    "\"\"\"\n",
    "\n",
    "cypher_generation_prompt = PromptTemplate(\n",
    "    template=CYPHER_GENERATION_TEMPLATE,\n",
    "    input_variables=[\"schema\", \"question\"],\n",
    ")\n",
    "\n",
    "cypher_chain = GraphCypherQAChain.from_llm(\n",
    "    chat_llm,\n",
    "    graph=graph,\n",
    "    cypher_prompt=cypher_generation_prompt,\n",
    "    verbose=True\n",
    ")\n",
    "\n",
    "\n"
   ]
  },
  {
   "cell_type": "code",
   "execution_count": 15,
   "id": "209e4ed8-135c-4e73-ab4b-27df818a8b50",
   "metadata": {
    "tags": []
   },
   "outputs": [
    {
     "name": "stdout",
     "output_type": "stream",
     "text": [
      "\n",
      "\n",
      "\u001b[1m> Entering new GraphCypherQAChain chain...\u001b[0m\n",
      "Generated Cypher:\n",
      "\u001b[32;1m\u001b[1;3mMATCH (:Assignee {name: 'HAIER US APPLIANCE SOLUTIONS, INC.'})-[:ASSIGNED_TO]-(d:Document)\n",
      "RETURN d.title\u001b[0m\n",
      "Full Context:\n",
      "\u001b[32;1m\u001b[1;3m[{'d.title': 'FLUID DELIVERY SYSTEM FOR A DRYER APPLIANCE'}, {'d.title': 'DRIVETRAIN FOR A MIXER'}, {'d.title': 'WASHER APPLIANCE WITH REMOVABLE AGITATOR POST HAVING TWIST LOCK MECHANISM'}, {'d.title': 'SUCTION MUFFLER FOR A RECIPROCATING COMPRESSOR'}, {'d.title': 'FLUID INFUSING SYSTEM DRIVEN BY DRYER DRUM'}, {'d.title': 'DRAINLESS CLEAR ICE MAKER FOR RECYCLING WATER USED TO MAKE CLEAR ICE'}, {'d.title': 'SYSTEM AND METHOD FOR DETECTING A TOWER POSITIONING FAULT USING A DRIVE ASSEMBLY IN AN INDOOR GARDEN CENTER'}]\u001b[0m\n",
      "\n",
      "\u001b[1m> Finished chain.\u001b[0m\n"
     ]
    },
    {
     "data": {
      "text/plain": [
       "'The patents connected to HAIER US APPLIANCE SOLUTIONS, INC. are as follows:\\n1. FLUID DELIVERY SYSTEM FOR A DRYER APPLIANCE\\n2. DRIVETRAIN FOR A MIXER\\n3. WASHER APPLIANCE WITH REMOVABLE AGITATOR POST HAVING TWIST LOCK MECHANISM\\n4. SUCTION MUFFLER FOR A RECIPROCATING COMPRESSOR\\n5. FLUID INFUSING SYSTEM DRIVEN BY DRYER DRUM\\n6. DRAINLESS CLEAR ICE MAKER FOR RECYCLING WATER USED TO MAKE CLEAR ICE\\n7. SYSTEM AND METHOD FOR DETECTING A TOWER POSITIONING FAULT USING A DRIVE ASSEMBLY IN AN INDOOR GARDEN CENTER'"
      ]
     },
     "execution_count": 15,
     "metadata": {},
     "output_type": "execute_result"
    }
   ],
   "source": [
    "cypher_chain.run(\"What patents are connected to HAIER US APPLIANCE SOLUTIONS, INC.? Don't use arrows in the Cypher query as a way to remove directionality.\")"
   ]
  },
  {
   "cell_type": "code",
   "execution_count": 18,
   "id": "4e99a916-d63a-4ab7-9d38-4b83beb6e0ab",
   "metadata": {
    "tags": []
   },
   "outputs": [
    {
     "name": "stdout",
     "output_type": "stream",
     "text": [
      "\n",
      "\n",
      "\u001b[1m> Entering new GraphCypherQAChain chain...\u001b[0m\n",
      "Generated Cypher:\n",
      "\u001b[32;1m\u001b[1;3mMATCH (d:Document {docnumber: 'US20230002955A1'})-[:INVENTED_BY]->(i:Inventor)\n",
      "RETURN i.name\u001b[0m\n",
      "Full Context:\n",
      "\u001b[32;1m\u001b[1;3m[{'i.name': 'VENKATA CHAKRADHAR RANGU'}, {'i.name': 'ALEXANDER B. LEIBMAN'}, {'i.name': 'NEELAPALA GOPINATH YADAV'}]\u001b[0m\n",
      "\n",
      "\u001b[1m> Finished chain.\u001b[0m\n"
     ]
    }
   ],
   "source": [
    "result = cypher_chain.run(\"Who invented this patent?  US20230002955A1\")"
   ]
  },
  {
   "cell_type": "code",
   "execution_count": 17,
   "id": "d1c8754c-9b4e-4c6d-a272-1c0db8b18802",
   "metadata": {
    "tags": []
   },
   "outputs": [
    {
     "data": {
      "text/plain": [
       "\"I'm sorry, but I don't have the information to answer your question.\""
      ]
     },
     "execution_count": 17,
     "metadata": {},
     "output_type": "execute_result"
    }
   ],
   "source": [
    "result"
   ]
  },
  {
   "cell_type": "code",
   "execution_count": 58,
   "id": "aa158ac7-f6f4-468e-9548-0ef3469243f0",
   "metadata": {
    "tags": []
   },
   "outputs": [
    {
     "name": "stdout",
     "output_type": "stream",
     "text": [
      "\n",
      "\n",
      "\u001b[1m> Entering new GraphCypherQAChain chain...\u001b[0m\n",
      "Generated Cypher:\n",
      "\u001b[32;1m\u001b[1;3mMATCH (:Document {docnumber: 'US20230002955A1'})-[:INVENTED_BY]->(inventor:Inventor)\n",
      "RETURN inventor.name\u001b[0m\n",
      "Full Context:\n",
      "\u001b[32;1m\u001b[1;3m[{'inventor.name': 'VENKATA CHAKRADHAR RANGU'}, {'inventor.name': 'ALEXANDER B. LEIBMAN'}, {'inventor.name': 'NEELAPALA GOPINATH YADAV'}]\u001b[0m\n",
      "\n",
      "\u001b[1m> Finished chain.\u001b[0m\n",
      "\n"
     ]
    }
   ],
   "source": [
    "import io\n",
    "import sys\n",
    "\n",
    "# Redirect stdout to a string\n",
    "old_stdout = sys.stdout\n",
    "sys.stdout = buffer = io.StringIO()\n",
    "\n",
    "# Run the chain\n",
    "result = cypher_chain.run(\"Who invented this patent? US20230002955A1\")\n",
    "\n",
    "# Get everything that was printed to the console\n",
    "verbose_output = buffer.getvalue()\n",
    "\n",
    "# Reset stdout to its original state\n",
    "sys.stdout = old_stdout\n",
    "\n",
    "print(verbose_output)\n"
   ]
  },
  {
   "cell_type": "code",
   "execution_count": null,
   "id": "022ac6f8-1f93-46ce-b73a-1588dc8eee35",
   "metadata": {},
   "outputs": [],
   "source": []
  },
  {
   "cell_type": "code",
   "execution_count": null,
   "id": "5cafcc55-d42d-4e35-bc94-cb10aec67768",
   "metadata": {},
   "outputs": [],
   "source": [
    "\"Can you find patents related to autonomous vehicle technology filed in the last five years?\"\n",
    "\"I'm interested in recent innovations in solar energy storage. What are the key features of the latest patents in this field?\"\n",
    "\"Compare the approaches of patents US20230001162A1 and US20230001061A1.\"\n",
    "\"I am researching wearable technology for health monitoring. Can you recommend some patents that I should look into?\"\n",
    "\n",
    "\"Who invented the patent US20230001061A1?\"\n",
    "\"Which patent is most similar to patent US20230001061A1?\"\n",
    "\"Compare the approaches of patents US20230001162A1 and US20230001061A1 based on the text in their abstracts.\""
   ]
  }
 ],
 "metadata": {
  "kernelspec": {
   "display_name": "Python 3 (ipykernel)",
   "language": "python",
   "name": "python3"
  },
  "language_info": {
   "codemirror_mode": {
    "name": "ipython",
    "version": 3
   },
   "file_extension": ".py",
   "mimetype": "text/x-python",
   "name": "python",
   "nbconvert_exporter": "python",
   "pygments_lexer": "ipython3",
   "version": "3.11.5"
  }
 },
 "nbformat": 4,
 "nbformat_minor": 5
}

{
 "cells": [
  {
   "cell_type": "code",
   "execution_count": 2,
   "metadata": {},
   "outputs": [],
   "source": [
    "# Setup\n",
    "from neo4j import GraphDatabase\n",
    "from graphdatascience import GraphDataScience\n",
    "import pandas as pd\n",
    "\n",
    "# Set the display options\n",
    "pd.set_option('display.max_columns', None)\n",
    "pd.set_option('display.expand_frame_repr', False)\n",
    "pd.set_option('max_colwidth', None)\n",
    "\n",
    "# Connect to Neo4j\n",
    "uri = \"bolt://localhost:7687\" # CHANGE TO YOUR PORT NUMBER\n",
    "user = \"neo4j\"\n",
    "password = \"neo4j12345\"       # CHANGE PASSWORD\n",
    "\n",
    "gds = GraphDataScience(uri, auth=(user,password))\n",
    "gds.set_database(\"neo4j\")"
   ]
  },
  {
   "cell_type": "code",
   "execution_count": null,
   "metadata": {},
   "outputs": [],
   "source": [
    "# Create data with Cypher\n",
    "gds.run_cypher(\"\"\"\n",
    "CREATE (mitch:Individual {name: 'Mitch'})\n",
    "\n",
    "CREATE (carl:Individual {name: 'Carl'}),\n",
    "       (nathan:Individual {name: 'Nathan'}),\n",
    "       (sophia:Individual {name: 'Sophia'}),\n",
    "       (emma:Individual {name: 'Emma'}),\n",
    "       (olivia:Individual {name: 'Olivia'}),\n",
    "       (james:Individual {name: 'James'}),\n",
    "       (michael:Individual {name: 'Michael'}),\n",
    "       (emily:Individual {name: 'Emily'}),\n",
    "       (madison:Individual {name: 'Madison'}),\n",
    "       (david:Individual {name: 'David'}),\n",
    "\n",
    "       (mitch)-[:FRIEND_OF]->(carl),\n",
    "       (mitch)-[:FRIEND_OF]->(sophia),\n",
    "       (mitch)-[:FRIEND_OF]->(emma),\n",
    "       (mitch)-[:FRIEND_OF]->(olivia),\n",
    "       (mitch)-[:FRIEND_OF]->(james),\n",
    "       (mitch)-[:FRIEND_OF]->(michael),\n",
    "       (mitch)-[:FRIEND_OF]->(emily),\n",
    "       (mitch)-[:FRIEND_OF]->(madison),\n",
    "       (mitch)-[:FRIEND_OF]->(david),\n",
    "\n",
    "       (carl)-[:FRIEND_OF]->(nathan);\n",
    "\n",
    "\"\"\")"
   ]
  },
  {
   "cell_type": "markdown",
   "metadata": {},
   "source": [
    "## Load the Recipe CSV Datasets into Neo4j"
   ]
  },
  {
   "cell_type": "code",
   "execution_count": 27,
   "metadata": {},
   "outputs": [
    {
     "data": {
      "text/html": [
       "<div>\n",
       "<style scoped>\n",
       "    .dataframe tbody tr th:only-of-type {\n",
       "        vertical-align: middle;\n",
       "    }\n",
       "\n",
       "    .dataframe tbody tr th {\n",
       "        vertical-align: top;\n",
       "    }\n",
       "\n",
       "    .dataframe thead th {\n",
       "        text-align: right;\n",
       "    }\n",
       "</style>\n",
       "<table border=\"1\" class=\"dataframe\">\n",
       "  <thead>\n",
       "    <tr style=\"text-align: right;\">\n",
       "      <th></th>\n",
       "      <th>row</th>\n",
       "    </tr>\n",
       "  </thead>\n",
       "  <tbody>\n",
       "    <tr>\n",
       "      <th>0</th>\n",
       "      <td>{'r.ingredients': '\"1 c firmly packed brown sugar, 12 c evaporated milk, 12 tsp vanilla, 12 c broken nuts pecans, 2 tbsp butter or margarine, 3 12 c bite size shredded rice biscuits\"', 'Directions': '\"in a heavy 2quart saucepan, mix brown sugar, nuts, evaporated milk and butter or margarine, stir over medium heat until mixture bubbles all over top, boil and stir 5 minutes more take off heat, stir in vanilla and cereal mix well, using 2 teaspoons, drop and shape into 30 clusters on wax paper, let stand until firm, about 30 minutes\"', 'Recipe_Title': '\"no-bake nut cookies\"', 'Recipe_ID': '0', 'Source': '\"gathered\"', 'Link': '\"www.cookbooks.com/recipe-details.aspx?id=44874\"'}</td>\n",
       "    </tr>\n",
       "  </tbody>\n",
       "</table>\n",
       "</div>"
      ],
      "text/plain": [
       "                                                                                                                                                                                                                                                                                                                                                                                                                                                                                                                                                                                                                                                                                                         row\n",
       "0  {'r.ingredients': '\"1 c firmly packed brown sugar, 12 c evaporated milk, 12 tsp vanilla, 12 c broken nuts pecans, 2 tbsp butter or margarine, 3 12 c bite size shredded rice biscuits\"', 'Directions': '\"in a heavy 2quart saucepan, mix brown sugar, nuts, evaporated milk and butter or margarine, stir over medium heat until mixture bubbles all over top, boil and stir 5 minutes more take off heat, stir in vanilla and cereal mix well, using 2 teaspoons, drop and shape into 30 clusters on wax paper, let stand until firm, about 30 minutes\"', 'Recipe_Title': '\"no-bake nut cookies\"', 'Recipe_ID': '0', 'Source': '\"gathered\"', 'Link': '\"www.cookbooks.com/recipe-details.aspx?id=44874\"'}"
      ]
     },
     "execution_count": 27,
     "metadata": {},
     "output_type": "execute_result"
    }
   ],
   "source": [
    "# Inspect the file\n",
    "gds.run_cypher(\"\"\"\n",
    "LOAD CSV WITH HEADERS FROM \"file:///Sample_Recipe_Nodes.csv\" AS row\n",
    "WITH row\n",
    "RETURN *\n",
    "LIMIT 1\n",
    "\"\"\")"
   ]
  },
  {
   "cell_type": "code",
   "execution_count": 28,
   "metadata": {},
   "outputs": [
    {
     "data": {
      "text/html": [
       "<div>\n",
       "<style scoped>\n",
       "    .dataframe tbody tr th:only-of-type {\n",
       "        vertical-align: middle;\n",
       "    }\n",
       "\n",
       "    .dataframe tbody tr th {\n",
       "        vertical-align: top;\n",
       "    }\n",
       "\n",
       "    .dataframe thead th {\n",
       "        text-align: right;\n",
       "    }\n",
       "</style>\n",
       "<table border=\"1\" class=\"dataframe\">\n",
       "  <thead>\n",
       "    <tr style=\"text-align: right;\">\n",
       "      <th></th>\n",
       "    </tr>\n",
       "  </thead>\n",
       "  <tbody>\n",
       "  </tbody>\n",
       "</table>\n",
       "</div>"
      ],
      "text/plain": [
       "Empty DataFrame\n",
       "Columns: []\n",
       "Index: []"
      ]
     },
     "execution_count": 28,
     "metadata": {},
     "output_type": "execute_result"
    }
   ],
   "source": [
    "gds.run_cypher(\"\"\"\n",
    "CREATE CONSTRAINT Recipe_ID IF NOT EXISTS FOR (r:Recipe) REQUIRE r.Recipe_ID IS UNIQUE;\n",
    "\"\"\")"
   ]
  },
  {
   "cell_type": "code",
   "execution_count": 29,
   "metadata": {},
   "outputs": [
    {
     "data": {
      "text/html": [
       "<div>\n",
       "<style scoped>\n",
       "    .dataframe tbody tr th:only-of-type {\n",
       "        vertical-align: middle;\n",
       "    }\n",
       "\n",
       "    .dataframe tbody tr th {\n",
       "        vertical-align: top;\n",
       "    }\n",
       "\n",
       "    .dataframe thead th {\n",
       "        text-align: right;\n",
       "    }\n",
       "</style>\n",
       "<table border=\"1\" class=\"dataframe\">\n",
       "  <thead>\n",
       "    <tr style=\"text-align: right;\">\n",
       "      <th></th>\n",
       "    </tr>\n",
       "  </thead>\n",
       "  <tbody>\n",
       "  </tbody>\n",
       "</table>\n",
       "</div>"
      ],
      "text/plain": [
       "Empty DataFrame\n",
       "Columns: []\n",
       "Index: []"
      ]
     },
     "execution_count": 29,
     "metadata": {},
     "output_type": "execute_result"
    }
   ],
   "source": [
    "gds.run_cypher(\"\"\"\n",
    "CREATE CONSTRAINT Ingredient_ID IF NOT EXISTS FOR (r:Ingredient) REQUIRE r.Ingredient_ID IS UNIQUE;\n",
    "\"\"\")"
   ]
  },
  {
   "cell_type": "code",
   "execution_count": 36,
   "metadata": {},
   "outputs": [
    {
     "ename": "CypherSyntaxError",
     "evalue": "{code: Neo.ClientError.Statement.SyntaxError} {message: Invalid input ',': expected\r\n  \"CALL\"\r\n  \"CREATE\"\r\n  \"DELETE\"\r\n  \"DETACH\"\r\n  \"FIELDTERMINATOR\"\r\n  \"FOREACH\"\r\n  \"LOAD\"\r\n  \"MATCH\"\r\n  \"MERGE\"\r\n  \"OPTIONAL\"\r\n  \"REMOVE\"\r\n  \"RETURN\"\r\n  \"SET\"\r\n  \"UNION\"\r\n  \"UNWIND\"\r\n  \"USE\"\r\n  \"WITH\"\r\n  <EOF> (line 2, column 68 (offset: 68))\r\n\"LOAD CSV WITH HEADERS FROM \"file:///Sample_Recipe_Nodes.csv\" AS row, delimiter = \"\",\"\"\"\r\n                                                                    ^}",
     "output_type": "error",
     "traceback": [
      "\u001b[1;31m---------------------------------------------------------------------------\u001b[0m",
      "\u001b[1;31mCypherSyntaxError\u001b[0m                         Traceback (most recent call last)",
      "Cell \u001b[1;32mIn[36], line 1\u001b[0m\n\u001b[1;32m----> 1\u001b[0m \u001b[43mgds\u001b[49m\u001b[38;5;241;43m.\u001b[39;49m\u001b[43mrun_cypher\u001b[49m\u001b[43m(\u001b[49m\u001b[38;5;124;43m\"\"\"\u001b[39;49m\n\u001b[0;32m      2\u001b[0m \u001b[38;5;124;43mLOAD CSV WITH HEADERS FROM \u001b[39;49m\u001b[38;5;124;43m\"\u001b[39;49m\u001b[38;5;124;43mfile:///Sample_Recipe_Nodes.csv\u001b[39;49m\u001b[38;5;124;43m\"\u001b[39;49m\u001b[38;5;124;43m AS row, delimiter = \u001b[39;49m\u001b[38;5;124;43m\"\u001b[39;49m\u001b[38;5;124;43m\"\u001b[39;49m\u001b[38;5;124;43m,\u001b[39;49m\u001b[38;5;124;43m\"\u001b[39;49m\u001b[38;5;124;43m\"\u001b[39;49m\n\u001b[0;32m      3\u001b[0m \u001b[38;5;124;43mWITH row\u001b[39;49m\n\u001b[0;32m      4\u001b[0m \u001b[38;5;124;43mWHERE toInteger(row.Recipe_ID) < 10\u001b[39;49m\n\u001b[0;32m      5\u001b[0m \u001b[38;5;124;43mMERGE (r:Recipe \u001b[39;49m\u001b[38;5;124;43m{\u001b[39;49m\n\u001b[0;32m      6\u001b[0m \u001b[38;5;124;43m    Recipe_ID: toInteger(row.Recipe_ID),\u001b[39;49m\n\u001b[0;32m      7\u001b[0m \u001b[38;5;124;43m    Recipe_Title: row.Recipe_Title,\u001b[39;49m\n\u001b[0;32m      8\u001b[0m \u001b[38;5;124;43m    Directions: row.Directions,\u001b[39;49m\n\u001b[0;32m      9\u001b[0m \u001b[38;5;124;43m    Link: row.Link,\u001b[39;49m\n\u001b[0;32m     10\u001b[0m \u001b[38;5;124;43m    Source: row.Source    \u001b[39;49m\n\u001b[0;32m     11\u001b[0m \u001b[38;5;124;43m})\u001b[39;49m\n\u001b[0;32m     12\u001b[0m \u001b[38;5;124;43m\"\"\"\u001b[39;49m\u001b[43m)\u001b[49m\n",
      "File \u001b[1;32m~\\anaconda3\\lib\\site-packages\\graphdatascience\\graph_data_science.py:97\u001b[0m, in \u001b[0;36mGraphDataScience.run_cypher\u001b[1;34m(self, query, params)\u001b[0m\n\u001b[0;32m     96\u001b[0m \u001b[38;5;28;01mdef\u001b[39;00m \u001b[38;5;21mrun_cypher\u001b[39m(\u001b[38;5;28mself\u001b[39m, query: \u001b[38;5;28mstr\u001b[39m, params: Optional[Dict[\u001b[38;5;28mstr\u001b[39m, Any]] \u001b[38;5;241m=\u001b[39m \u001b[38;5;28;01mNone\u001b[39;00m) \u001b[38;5;241m-\u001b[39m\u001b[38;5;241m>\u001b[39m DataFrame:\n\u001b[1;32m---> 97\u001b[0m     \u001b[38;5;28;01mreturn\u001b[39;00m \u001b[38;5;28;43mself\u001b[39;49m\u001b[38;5;241;43m.\u001b[39;49m\u001b[43m_query_runner\u001b[49m\u001b[38;5;241;43m.\u001b[39;49m\u001b[43mrun_query\u001b[49m\u001b[43m(\u001b[49m\u001b[43mquery\u001b[49m\u001b[43m,\u001b[49m\u001b[43m \u001b[49m\u001b[43mparams\u001b[49m\u001b[43m)\u001b[49m\n",
      "File \u001b[1;32m~\\anaconda3\\lib\\site-packages\\graphdatascience\\query_runner\\neo4j_query_runner.py:29\u001b[0m, in \u001b[0;36mNeo4jQueryRunner.run_query\u001b[1;34m(self, query, params)\u001b[0m\n\u001b[0;32m     26\u001b[0m     params \u001b[38;5;241m=\u001b[39m {}\n\u001b[0;32m     28\u001b[0m \u001b[38;5;28;01mwith\u001b[39;00m \u001b[38;5;28mself\u001b[39m\u001b[38;5;241m.\u001b[39m_driver\u001b[38;5;241m.\u001b[39msession(database\u001b[38;5;241m=\u001b[39m\u001b[38;5;28mself\u001b[39m\u001b[38;5;241m.\u001b[39m_db) \u001b[38;5;28;01mas\u001b[39;00m session:\n\u001b[1;32m---> 29\u001b[0m     result \u001b[38;5;241m=\u001b[39m \u001b[43msession\u001b[49m\u001b[38;5;241;43m.\u001b[39;49m\u001b[43mrun\u001b[49m\u001b[43m(\u001b[49m\u001b[43mquery\u001b[49m\u001b[43m,\u001b[49m\u001b[43m \u001b[49m\u001b[43mparams\u001b[49m\u001b[43m)\u001b[49m\n\u001b[0;32m     31\u001b[0m     \u001b[38;5;66;03m# Though pandas support may be experimental in the `neo4j` package, it should always\u001b[39;00m\n\u001b[0;32m     32\u001b[0m     \u001b[38;5;66;03m# be supported in the `graphdatascience` package.\u001b[39;00m\n\u001b[0;32m     33\u001b[0m     warnings\u001b[38;5;241m.\u001b[39mfilterwarnings(\n\u001b[0;32m     34\u001b[0m         \u001b[38;5;124m\"\u001b[39m\u001b[38;5;124mignore\u001b[39m\u001b[38;5;124m\"\u001b[39m,\n\u001b[0;32m     35\u001b[0m         message\u001b[38;5;241m=\u001b[39m\u001b[38;5;124mr\u001b[39m\u001b[38;5;124m\"\u001b[39m\u001b[38;5;124m^pandas support is experimental and might be changed or removed in future versions$\u001b[39m\u001b[38;5;124m\"\u001b[39m,\n\u001b[0;32m     36\u001b[0m     )\n",
      "File \u001b[1;32m~\\anaconda3\\lib\\site-packages\\neo4j\\work\\simple.py:215\u001b[0m, in \u001b[0;36mSession.run\u001b[1;34m(self, query, parameters, **kwparameters)\u001b[0m\n\u001b[0;32m    209\u001b[0m hydrant \u001b[38;5;241m=\u001b[39m DataHydrator()\n\u001b[0;32m    211\u001b[0m \u001b[38;5;28mself\u001b[39m\u001b[38;5;241m.\u001b[39m_autoResult \u001b[38;5;241m=\u001b[39m Result(\n\u001b[0;32m    212\u001b[0m     cx, hydrant, \u001b[38;5;28mself\u001b[39m\u001b[38;5;241m.\u001b[39m_config\u001b[38;5;241m.\u001b[39mfetch_size, \u001b[38;5;28mself\u001b[39m\u001b[38;5;241m.\u001b[39m_result_closed,\n\u001b[0;32m    213\u001b[0m     \u001b[38;5;28mself\u001b[39m\u001b[38;5;241m.\u001b[39m_result_error\n\u001b[0;32m    214\u001b[0m )\n\u001b[1;32m--> 215\u001b[0m \u001b[38;5;28;43mself\u001b[39;49m\u001b[38;5;241;43m.\u001b[39;49m\u001b[43m_autoResult\u001b[49m\u001b[38;5;241;43m.\u001b[39;49m\u001b[43m_run\u001b[49m\u001b[43m(\u001b[49m\n\u001b[0;32m    216\u001b[0m \u001b[43m    \u001b[49m\u001b[43mquery\u001b[49m\u001b[43m,\u001b[49m\u001b[43m \u001b[49m\u001b[43mparameters\u001b[49m\u001b[43m,\u001b[49m\u001b[43m \u001b[49m\u001b[38;5;28;43mself\u001b[39;49m\u001b[38;5;241;43m.\u001b[39;49m\u001b[43m_config\u001b[49m\u001b[38;5;241;43m.\u001b[39;49m\u001b[43mdatabase\u001b[49m\u001b[43m,\u001b[49m\n\u001b[0;32m    217\u001b[0m \u001b[43m    \u001b[49m\u001b[38;5;28;43mself\u001b[39;49m\u001b[38;5;241;43m.\u001b[39;49m\u001b[43m_config\u001b[49m\u001b[38;5;241;43m.\u001b[39;49m\u001b[43mimpersonated_user\u001b[49m\u001b[43m,\u001b[49m\u001b[43m \u001b[49m\u001b[38;5;28;43mself\u001b[39;49m\u001b[38;5;241;43m.\u001b[39;49m\u001b[43m_config\u001b[49m\u001b[38;5;241;43m.\u001b[39;49m\u001b[43mdefault_access_mode\u001b[49m\u001b[43m,\u001b[49m\n\u001b[0;32m    218\u001b[0m \u001b[43m    \u001b[49m\u001b[38;5;28;43mself\u001b[39;49m\u001b[38;5;241;43m.\u001b[39;49m\u001b[43m_bookmarks\u001b[49m\u001b[43m,\u001b[49m\u001b[43m \u001b[49m\u001b[38;5;241;43m*\u001b[39;49m\u001b[38;5;241;43m*\u001b[39;49m\u001b[43mkwparameters\u001b[49m\n\u001b[0;32m    219\u001b[0m \u001b[43m\u001b[49m\u001b[43m)\u001b[49m\n\u001b[0;32m    221\u001b[0m \u001b[38;5;28;01mreturn\u001b[39;00m \u001b[38;5;28mself\u001b[39m\u001b[38;5;241m.\u001b[39m_autoResult\n",
      "File \u001b[1;32m~\\anaconda3\\lib\\site-packages\\neo4j\\work\\result.py:114\u001b[0m, in \u001b[0;36mResult._run\u001b[1;34m(self, query, parameters, db, imp_user, access_mode, bookmarks, **kwparameters)\u001b[0m\n\u001b[0;32m    112\u001b[0m \u001b[38;5;28mself\u001b[39m\u001b[38;5;241m.\u001b[39m_pull()\n\u001b[0;32m    113\u001b[0m \u001b[38;5;28mself\u001b[39m\u001b[38;5;241m.\u001b[39m_connection\u001b[38;5;241m.\u001b[39msend_all()\n\u001b[1;32m--> 114\u001b[0m \u001b[38;5;28;43mself\u001b[39;49m\u001b[38;5;241;43m.\u001b[39;49m\u001b[43m_attach\u001b[49m\u001b[43m(\u001b[49m\u001b[43m)\u001b[49m\n",
      "File \u001b[1;32m~\\anaconda3\\lib\\site-packages\\neo4j\\work\\result.py:203\u001b[0m, in \u001b[0;36mResult._attach\u001b[1;34m(self)\u001b[0m\n\u001b[0;32m    201\u001b[0m \u001b[38;5;28;01mif\u001b[39;00m \u001b[38;5;28mself\u001b[39m\u001b[38;5;241m.\u001b[39m_closed \u001b[38;5;129;01mis\u001b[39;00m \u001b[38;5;28;01mFalse\u001b[39;00m:\n\u001b[0;32m    202\u001b[0m     \u001b[38;5;28;01mwhile\u001b[39;00m \u001b[38;5;28mself\u001b[39m\u001b[38;5;241m.\u001b[39m_attached \u001b[38;5;129;01mis\u001b[39;00m \u001b[38;5;28;01mFalse\u001b[39;00m:\n\u001b[1;32m--> 203\u001b[0m         \u001b[38;5;28;43mself\u001b[39;49m\u001b[38;5;241;43m.\u001b[39;49m\u001b[43m_connection\u001b[49m\u001b[38;5;241;43m.\u001b[39;49m\u001b[43mfetch_message\u001b[49m\u001b[43m(\u001b[49m\u001b[43m)\u001b[49m\n",
      "File \u001b[1;32m~\\anaconda3\\lib\\site-packages\\neo4j\\io\\_common.py:187\u001b[0m, in \u001b[0;36mConnectionErrorHandler.__getattr__.<locals>.outer.<locals>.inner\u001b[1;34m(*args, **kwargs)\u001b[0m\n\u001b[0;32m    185\u001b[0m \u001b[38;5;28;01mdef\u001b[39;00m \u001b[38;5;21minner\u001b[39m(\u001b[38;5;241m*\u001b[39margs, \u001b[38;5;241m*\u001b[39m\u001b[38;5;241m*\u001b[39mkwargs):\n\u001b[0;32m    186\u001b[0m     \u001b[38;5;28;01mtry\u001b[39;00m:\n\u001b[1;32m--> 187\u001b[0m         \u001b[43mfunc\u001b[49m\u001b[43m(\u001b[49m\u001b[38;5;241;43m*\u001b[39;49m\u001b[43margs\u001b[49m\u001b[43m,\u001b[49m\u001b[43m \u001b[49m\u001b[38;5;241;43m*\u001b[39;49m\u001b[38;5;241;43m*\u001b[39;49m\u001b[43mkwargs\u001b[49m\u001b[43m)\u001b[49m\n\u001b[0;32m    188\u001b[0m     \u001b[38;5;28;01mexcept\u001b[39;00m (Neo4jError, ServiceUnavailable, SessionExpired) \u001b[38;5;28;01mas\u001b[39;00m exc:\n\u001b[0;32m    189\u001b[0m         \u001b[38;5;28mself\u001b[39m\u001b[38;5;241m.\u001b[39m__on_error(exc)\n",
      "File \u001b[1;32m~\\anaconda3\\lib\\site-packages\\neo4j\\io\\_bolt4.py:302\u001b[0m, in \u001b[0;36mBolt4x0.fetch_message\u001b[1;34m(self)\u001b[0m\n\u001b[0;32m    300\u001b[0m \u001b[38;5;28mself\u001b[39m\u001b[38;5;241m.\u001b[39m_server_state_manager\u001b[38;5;241m.\u001b[39mstate \u001b[38;5;241m=\u001b[39m ServerStates\u001b[38;5;241m.\u001b[39mFAILED\n\u001b[0;32m    301\u001b[0m \u001b[38;5;28;01mtry\u001b[39;00m:\n\u001b[1;32m--> 302\u001b[0m     \u001b[43mresponse\u001b[49m\u001b[38;5;241;43m.\u001b[39;49m\u001b[43mon_failure\u001b[49m\u001b[43m(\u001b[49m\u001b[43msummary_metadata\u001b[49m\u001b[43m \u001b[49m\u001b[38;5;129;43;01mor\u001b[39;49;00m\u001b[43m \u001b[49m\u001b[43m{\u001b[49m\u001b[43m}\u001b[49m\u001b[43m)\u001b[49m\n\u001b[0;32m    303\u001b[0m \u001b[38;5;28;01mexcept\u001b[39;00m (ServiceUnavailable, DatabaseUnavailable):\n\u001b[0;32m    304\u001b[0m     \u001b[38;5;28;01mif\u001b[39;00m \u001b[38;5;28mself\u001b[39m\u001b[38;5;241m.\u001b[39mpool:\n",
      "File \u001b[1;32m~\\anaconda3\\lib\\site-packages\\neo4j\\io\\_common.py:245\u001b[0m, in \u001b[0;36mResponse.on_failure\u001b[1;34m(self, metadata)\u001b[0m\n\u001b[0;32m    243\u001b[0m \u001b[38;5;28;01mif\u001b[39;00m callable(handler):\n\u001b[0;32m    244\u001b[0m     handler()\n\u001b[1;32m--> 245\u001b[0m \u001b[38;5;28;01mraise\u001b[39;00m Neo4jError\u001b[38;5;241m.\u001b[39mhydrate(\u001b[38;5;241m*\u001b[39m\u001b[38;5;241m*\u001b[39mmetadata)\n",
      "\u001b[1;31mCypherSyntaxError\u001b[0m: {code: Neo.ClientError.Statement.SyntaxError} {message: Invalid input ',': expected\r\n  \"CALL\"\r\n  \"CREATE\"\r\n  \"DELETE\"\r\n  \"DETACH\"\r\n  \"FIELDTERMINATOR\"\r\n  \"FOREACH\"\r\n  \"LOAD\"\r\n  \"MATCH\"\r\n  \"MERGE\"\r\n  \"OPTIONAL\"\r\n  \"REMOVE\"\r\n  \"RETURN\"\r\n  \"SET\"\r\n  \"UNION\"\r\n  \"UNWIND\"\r\n  \"USE\"\r\n  \"WITH\"\r\n  <EOF> (line 2, column 68 (offset: 68))\r\n\"LOAD CSV WITH HEADERS FROM \"file:///Sample_Recipe_Nodes.csv\" AS row, delimiter = \"\",\"\"\"\r\n                                                                    ^}"
     ]
    }
   ],
   "source": [
    "gds.run_cypher(\"\"\"\n",
    "LOAD CSV WITH HEADERS FROM \"file:///Sample_Recipe_Nodes.csv\" AS row\n",
    "WITH row\n",
    "WHERE toInteger(row.Recipe_ID) < 10\n",
    "MERGE (r:Recipe {\n",
    "    Recipe_ID: toInteger(row.Recipe_ID),\n",
    "    Recipe_Title: row.Recipe_Title,\n",
    "    Directions: row.Directions,\n",
    "    Link: row.Link,\n",
    "    Source: row.Source    \n",
    "})\n",
    "\"\"\")"
   ]
  },
  {
   "cell_type": "code",
   "execution_count": null,
   "metadata": {},
   "outputs": [],
   "source": [
    "gds.run_cypher(\"\"\"\n",
    "LOAD CSV WITH HEADERS FROM \"file:///Cleaned_Recipe_Data.csv\" AS row\n",
    "WITH row\n",
    "WHERE row.directions IS NOT NULL AND row.ingredients IS NOT NULL\n",
    "CALL {\n",
    "    WITH row\n",
    "    MERGE (r:Recipe {\n",
    "        title: row.title,\n",
    "        directions: row.directions,\n",
    "        link: row.link,\n",
    "        source: row.source,\n",
    "        ingredients: row.ingredients\n",
    "    })\n",
    "    WITH r, split(row.NER, ', ') AS ingredients\n",
    "    UNWIND ingredients AS ingredientText\n",
    "    MERGE (i:Ingredient {name: ingredientText})\n",
    "    CREATE (r)-[:USES]->(i)\n",
    "} IN TRANSACTIONS OF 5000 ROWS\n",
    ";\n",
    "\n",
    "\"\"\")"
   ]
  },
  {
   "cell_type": "code",
   "execution_count": null,
   "metadata": {},
   "outputs": [],
   "source": [
    "gds.run_cypher(\"\"\"\n",
    "CREATE CONSTRAINT rowid IF NOT EXISTS FOR (r:Recipe) REQUIRE r.Row_ID IS UNIQUE;\n",
    "\"\"\")"
   ]
  },
  {
   "cell_type": "code",
   "execution_count": null,
   "metadata": {},
   "outputs": [],
   "source": [
    "gds.run_cypher(\"\"\"\n",
    "LOAD CSV WITH HEADERS FROM \"file:///Cleaned_Recipe_Data.csv\" AS row\n",
    "WITH row\n",
    "WHERE row.directions IS NOT NULL AND row.ingredients IS NOT NULL\n",
    "CALL {\n",
    "    WITH row\n",
    "    MERGE (r:Recipe {\n",
    "        Row_ID: toInteger(row.Row_ID),\n",
    "        title: row.title,\n",
    "        directions: row.directions,\n",
    "        link: row.link,\n",
    "        source: row.source,\n",
    "        ingredients: row.ingredients,\n",
    "        NER: row.NER\n",
    "    })\n",
    "} IN TRANSACTIONS OF 1000 ROWS\n",
    ";\n",
    "\n",
    "\"\"\")"
   ]
  },
  {
   "cell_type": "code",
   "execution_count": null,
   "metadata": {},
   "outputs": [],
   "source": [
    "## SET INDEXES\n",
    "## CHANGE TO LOWER CASE"
   ]
  },
  {
   "cell_type": "code",
   "execution_count": null,
   "metadata": {},
   "outputs": [],
   "source": [
    "gds.run_cypher(\"\"\"\n",
    "CREATE CONSTRAINT ingredient_name IF NOT EXISTS FOR (r:Ingredient) REQUIRE r.Ingredient_Name IS UNIQUE;\n",
    "\"\"\")"
   ]
  },
  {
   "cell_type": "code",
   "execution_count": null,
   "metadata": {},
   "outputs": [],
   "source": [
    "gds.run_cypher(\"\"\"\n",
    "LOAD CSV WITH HEADERS FROM \"file:///Ingredients.csv\" AS row\n",
    "WITH row\n",
    "WHERE row.Ingredient IS NOT NULL \n",
    "CALL {\n",
    "    WITH row\n",
    "    MERGE (i:Ingredient {Ingredient_Name: row.Ingredient})\n",
    "\n",
    "} IN TRANSACTIONS OF 1000 ROWS\n",
    ";\n",
    "\n",
    "\"\"\")"
   ]
  },
  {
   "cell_type": "code",
   "execution_count": null,
   "metadata": {},
   "outputs": [],
   "source": [
    "gds.run_cypher(\"\"\"\n",
    "LOAD CSV WITH HEADERS FROM 'file:///Ingredients.csv' AS row\n",
    "MATCH (r:Recipe {Row_ID: toInteger(row.Row_ID)}), (i:Ingredient {Ingredient_Name: row.Ingredient})\n",
    "MERGE (r)-[:USES]->(i)\n",
    "\"\"\")"
   ]
  },
  {
   "cell_type": "markdown",
   "metadata": {},
   "source": [
    "## Load Flower Data with Pandas"
   ]
  },
  {
   "cell_type": "code",
   "execution_count": 10,
   "metadata": {},
   "outputs": [],
   "source": [
    "from neo4j import GraphDatabase\n",
    "from getpass import getpass"
   ]
  },
  {
   "cell_type": "code",
   "execution_count": 11,
   "metadata": {},
   "outputs": [
    {
     "name": "stdout",
     "output_type": "stream",
     "text": [
      "········\n"
     ]
    }
   ],
   "source": [
    "password = getpass()"
   ]
  },
  {
   "cell_type": "code",
   "execution_count": 12,
   "metadata": {},
   "outputs": [],
   "source": [
    "driver = GraphDatabase.driver(\"bolt://localhost:7687\", auth=(\"neo4j\", password))"
   ]
  },
  {
   "cell_type": "code",
   "execution_count": 3,
   "metadata": {},
   "outputs": [
    {
     "name": "stdout",
     "output_type": "stream",
     "text": [
      "   Sepal_Length  Sepal_Width  Petal_Length  Petal_Width Species\n",
      "0           5.1          3.5           1.4          0.2  setosa\n",
      "1           4.9          3.0           1.4          0.2  setosa\n",
      "2           4.7          3.2           1.3          0.2  setosa\n",
      "3           4.6          3.1           1.5          0.2  setosa\n",
      "4           5.0          3.6           1.4          0.2  setosa\n"
     ]
    }
   ],
   "source": [
    "import pandas as pd\n",
    "import numpy as np\n",
    "import os\n",
    "df = pd.read_csv (r'C:\\Users\\TimEa\\OneDrive\\Data\\Iris\\iris.csv', encoding= 'unicode_escape')\n",
    "df = df.rename(columns=lambda x: x.replace('.', '_'))\n",
    "print (df.head())"
   ]
  },
  {
   "cell_type": "code",
   "execution_count": 5,
   "metadata": {},
   "outputs": [],
   "source": [
    "target_variable = 'Species'\n",
    "independent_variables = [col for col in df.columns if col not in ['Id', target_variable]]"
   ]
  },
  {
   "cell_type": "code",
   "execution_count": 6,
   "metadata": {},
   "outputs": [
    {
     "name": "stdout",
     "output_type": "stream",
     "text": [
      "   Sepal_Length  Sepal_Width  Petal_Length  Petal_Width Species Id  Target\n",
      "0           5.1          3.5           1.4          0.2  setosa  0       0\n",
      "1           4.9          3.0           1.4          0.2  setosa  1       0\n",
      "2           4.7          3.2           1.3          0.2  setosa  2       0\n",
      "3           4.6          3.1           1.5          0.2  setosa  3       0\n",
      "4           5.0          3.6           1.4          0.2  setosa  4       0\n"
     ]
    }
   ],
   "source": [
    "# Reset the index and generate a new index column named 'index'\n",
    "df = df.reset_index()\n",
    "\n",
    "# Add a new column of IDs based on the 'index' column\n",
    "df['Id'] = df['index'].astype(str)\n",
    "\n",
    "# Drop the 'index' column if desired\n",
    "df = df.drop(columns=['index'])\n",
    "\n",
    "# Convert target variable to a numeric value\n",
    "df['Target'] = pd.Categorical(df[target_variable]).codes\n",
    "\n",
    "print(df.head())"
   ]
  },
  {
   "cell_type": "code",
   "execution_count": 9,
   "metadata": {},
   "outputs": [
    {
     "data": {
      "text/plain": [
       "{'Sepal_Length': 4.9,\n",
       " 'Sepal_Width': 3.0,\n",
       " 'Petal_Length': 1.4,\n",
       " 'Petal_Width': 0.2,\n",
       " 'Species': 'setosa',\n",
       " 'Id': '1',\n",
       " 'Target': 0}"
      ]
     },
     "metadata": {},
     "output_type": "display_data"
    }
   ],
   "source": [
    "# Convert the dataframe to a list of dictionaries\n",
    "data = df.to_dict('records')\n",
    "display(data[1])"
   ]
  },
  {
   "cell_type": "code",
   "execution_count": 20,
   "metadata": {},
   "outputs": [],
   "source": [
    "with driver.session() as session:\n",
    "    session.run(\"\"\"\n",
    "    UNWIND $data AS row\n",
    "    MERGE (s:Flower_Record {Row_ID: toInteger(row['Id'])})\n",
    "    ON CREATE SET s.Target = toInteger(row['Target'])\n",
    "        , s.Sepal_Length = row['Sepal_Length']\n",
    "        , s.Sepal_Width  = row['Sepal_Width']\n",
    "        , s.Petal_Length = row['Petal_Length']\n",
    "        , s.Petal_Width  = row['Petal_Width']\n",
    "        , s.Species      = row['Species']\"\"\",\n",
    "               {\"data\":data})"
   ]
  },
  {
   "cell_type": "code",
   "execution_count": 21,
   "metadata": {},
   "outputs": [
    {
     "data": {
      "text/html": [
       "<div>\n",
       "<style scoped>\n",
       "    .dataframe tbody tr th:only-of-type {\n",
       "        vertical-align: middle;\n",
       "    }\n",
       "\n",
       "    .dataframe tbody tr th {\n",
       "        vertical-align: top;\n",
       "    }\n",
       "\n",
       "    .dataframe thead th {\n",
       "        text-align: right;\n",
       "    }\n",
       "</style>\n",
       "<table border=\"1\" class=\"dataframe\">\n",
       "  <thead>\n",
       "    <tr style=\"text-align: right;\">\n",
       "      <th></th>\n",
       "    </tr>\n",
       "  </thead>\n",
       "  <tbody>\n",
       "  </tbody>\n",
       "</table>\n",
       "</div>"
      ],
      "text/plain": [
       "Empty DataFrame\n",
       "Columns: []\n",
       "Index: []"
      ]
     },
     "execution_count": 21,
     "metadata": {},
     "output_type": "execute_result"
    }
   ],
   "source": [
    "gds.run_cypher(\"\"\"\n",
    "CREATE INDEX Row_ID IF NOT EXISTS FOR (s:Flower_Record) ON (s.Row_ID)\n",
    "\"\"\")"
   ]
  },
  {
   "cell_type": "code",
   "execution_count": 19,
   "metadata": {},
   "outputs": [
    {
     "data": {
      "text/html": [
       "<div>\n",
       "<style scoped>\n",
       "    .dataframe tbody tr th:only-of-type {\n",
       "        vertical-align: middle;\n",
       "    }\n",
       "\n",
       "    .dataframe tbody tr th {\n",
       "        vertical-align: top;\n",
       "    }\n",
       "\n",
       "    .dataframe thead th {\n",
       "        text-align: right;\n",
       "    }\n",
       "</style>\n",
       "<table border=\"1\" class=\"dataframe\">\n",
       "  <thead>\n",
       "    <tr style=\"text-align: right;\">\n",
       "      <th></th>\n",
       "      <th>id</th>\n",
       "      <th>name</th>\n",
       "      <th>state</th>\n",
       "      <th>populationPercent</th>\n",
       "      <th>type</th>\n",
       "      <th>entityType</th>\n",
       "      <th>labelsOrTypes</th>\n",
       "      <th>properties</th>\n",
       "      <th>indexProvider</th>\n",
       "      <th>owningConstraint</th>\n",
       "    </tr>\n",
       "  </thead>\n",
       "  <tbody>\n",
       "    <tr>\n",
       "      <th>0</th>\n",
       "      <td>7</td>\n",
       "      <td>Ingredient_ID</td>\n",
       "      <td>ONLINE</td>\n",
       "      <td>100.0</td>\n",
       "      <td>RANGE</td>\n",
       "      <td>NODE</td>\n",
       "      <td>[Ingredient]</td>\n",
       "      <td>[Ingredient_ID]</td>\n",
       "      <td>range-1.0</td>\n",
       "      <td>Ingredient_ID</td>\n",
       "    </tr>\n",
       "    <tr>\n",
       "      <th>1</th>\n",
       "      <td>5</td>\n",
       "      <td>Recipe_ID</td>\n",
       "      <td>ONLINE</td>\n",
       "      <td>100.0</td>\n",
       "      <td>RANGE</td>\n",
       "      <td>NODE</td>\n",
       "      <td>[Recipe]</td>\n",
       "      <td>[Recipe_ID]</td>\n",
       "      <td>range-1.0</td>\n",
       "      <td>Recipe_ID</td>\n",
       "    </tr>\n",
       "    <tr>\n",
       "      <th>2</th>\n",
       "      <td>9</td>\n",
       "      <td>Row_ID</td>\n",
       "      <td>ONLINE</td>\n",
       "      <td>100.0</td>\n",
       "      <td>RANGE</td>\n",
       "      <td>NODE</td>\n",
       "      <td>[Species]</td>\n",
       "      <td>[Row_ID]</td>\n",
       "      <td>range-1.0</td>\n",
       "      <td>None</td>\n",
       "    </tr>\n",
       "    <tr>\n",
       "      <th>3</th>\n",
       "      <td>1</td>\n",
       "      <td>index_343aff4e</td>\n",
       "      <td>ONLINE</td>\n",
       "      <td>100.0</td>\n",
       "      <td>LOOKUP</td>\n",
       "      <td>NODE</td>\n",
       "      <td>None</td>\n",
       "      <td>None</td>\n",
       "      <td>token-lookup-1.0</td>\n",
       "      <td>None</td>\n",
       "    </tr>\n",
       "    <tr>\n",
       "      <th>4</th>\n",
       "      <td>2</td>\n",
       "      <td>index_f7700477</td>\n",
       "      <td>ONLINE</td>\n",
       "      <td>100.0</td>\n",
       "      <td>LOOKUP</td>\n",
       "      <td>RELATIONSHIP</td>\n",
       "      <td>None</td>\n",
       "      <td>None</td>\n",
       "      <td>token-lookup-1.0</td>\n",
       "      <td>None</td>\n",
       "    </tr>\n",
       "    <tr>\n",
       "      <th>5</th>\n",
       "      <td>3</td>\n",
       "      <td>rowid</td>\n",
       "      <td>ONLINE</td>\n",
       "      <td>100.0</td>\n",
       "      <td>RANGE</td>\n",
       "      <td>NODE</td>\n",
       "      <td>[Recipe]</td>\n",
       "      <td>[Row_ID]</td>\n",
       "      <td>range-1.0</td>\n",
       "      <td>rowid</td>\n",
       "    </tr>\n",
       "  </tbody>\n",
       "</table>\n",
       "</div>"
      ],
      "text/plain": [
       "   id            name   state  populationPercent    type    entityType labelsOrTypes       properties     indexProvider owningConstraint\n",
       "0   7   Ingredient_ID  ONLINE              100.0   RANGE          NODE  [Ingredient]  [Ingredient_ID]         range-1.0    Ingredient_ID\n",
       "1   5       Recipe_ID  ONLINE              100.0   RANGE          NODE      [Recipe]      [Recipe_ID]         range-1.0        Recipe_ID\n",
       "2   9          Row_ID  ONLINE              100.0   RANGE          NODE     [Species]         [Row_ID]         range-1.0             None\n",
       "3   1  index_343aff4e  ONLINE              100.0  LOOKUP          NODE          None             None  token-lookup-1.0             None\n",
       "4   2  index_f7700477  ONLINE              100.0  LOOKUP  RELATIONSHIP          None             None  token-lookup-1.0             None\n",
       "5   3           rowid  ONLINE              100.0   RANGE          NODE      [Recipe]         [Row_ID]         range-1.0            rowid"
      ]
     },
     "execution_count": 19,
     "metadata": {},
     "output_type": "execute_result"
    }
   ],
   "source": [
    "gds.run_cypher(\"\"\"\n",
    "SHOW INDEX\n",
    "\"\"\")"
   ]
  },
  {
   "cell_type": "code",
   "execution_count": 23,
   "metadata": {},
   "outputs": [
    {
     "data": {
      "text/html": [
       "<div>\n",
       "<style scoped>\n",
       "    .dataframe tbody tr th:only-of-type {\n",
       "        vertical-align: middle;\n",
       "    }\n",
       "\n",
       "    .dataframe tbody tr th {\n",
       "        vertical-align: top;\n",
       "    }\n",
       "\n",
       "    .dataframe thead th {\n",
       "        text-align: right;\n",
       "    }\n",
       "</style>\n",
       "<table border=\"1\" class=\"dataframe\">\n",
       "  <thead>\n",
       "    <tr style=\"text-align: right;\">\n",
       "      <th></th>\n",
       "    </tr>\n",
       "  </thead>\n",
       "  <tbody>\n",
       "  </tbody>\n",
       "</table>\n",
       "</div>"
      ],
      "text/plain": [
       "Empty DataFrame\n",
       "Columns: []\n",
       "Index: []"
      ]
     },
     "execution_count": 23,
     "metadata": {},
     "output_type": "execute_result"
    }
   ],
   "source": [
    "gds.run_cypher(\"\"\"\n",
    "// First, ensure there is a Petal_Length node\n",
    "MERGE (p:Petal_Length)\n",
    "ON CREATE SET p.name = 'Petal Length' // You can set properties if needed\n",
    "\n",
    "// Match all Flower_Record nodes and connect them to the Petal_Length node\n",
    "WITH p\n",
    "MATCH (s:Flower_Record)\n",
    "MERGE (s)-[r:PETAL_LENGTH]->(p)\n",
    "SET r.Petal_Length = toFloat(s.Petal_Length)\n",
    "\"\"\")"
   ]
  },
  {
   "cell_type": "code",
   "execution_count": 24,
   "metadata": {},
   "outputs": [
    {
     "data": {
      "text/html": [
       "<div>\n",
       "<style scoped>\n",
       "    .dataframe tbody tr th:only-of-type {\n",
       "        vertical-align: middle;\n",
       "    }\n",
       "\n",
       "    .dataframe tbody tr th {\n",
       "        vertical-align: top;\n",
       "    }\n",
       "\n",
       "    .dataframe thead th {\n",
       "        text-align: right;\n",
       "    }\n",
       "</style>\n",
       "<table border=\"1\" class=\"dataframe\">\n",
       "  <thead>\n",
       "    <tr style=\"text-align: right;\">\n",
       "      <th></th>\n",
       "    </tr>\n",
       "  </thead>\n",
       "  <tbody>\n",
       "  </tbody>\n",
       "</table>\n",
       "</div>"
      ],
      "text/plain": [
       "Empty DataFrame\n",
       "Columns: []\n",
       "Index: []"
      ]
     },
     "execution_count": 24,
     "metadata": {},
     "output_type": "execute_result"
    }
   ],
   "source": [
    "gds.run_cypher(\"\"\"\n",
    "// First, ensure there is a Petal_Width node\n",
    "MERGE (p:Petal_Width)\n",
    "ON CREATE SET p.name = 'Petal Width' // You can set properties if needed\n",
    "\n",
    "// Match all Flower_Record nodes and connect them to the Petal_Width node\n",
    "WITH p\n",
    "MATCH (s:Flower_Record)\n",
    "MERGE (s)-[r:PETAL_WIDTH]->(p)\n",
    "SET r.Petal_Width = toFloat(s.Petal_Width)\n",
    "\"\"\")"
   ]
  },
  {
   "cell_type": "code",
   "execution_count": 25,
   "metadata": {},
   "outputs": [
    {
     "data": {
      "text/html": [
       "<div>\n",
       "<style scoped>\n",
       "    .dataframe tbody tr th:only-of-type {\n",
       "        vertical-align: middle;\n",
       "    }\n",
       "\n",
       "    .dataframe tbody tr th {\n",
       "        vertical-align: top;\n",
       "    }\n",
       "\n",
       "    .dataframe thead th {\n",
       "        text-align: right;\n",
       "    }\n",
       "</style>\n",
       "<table border=\"1\" class=\"dataframe\">\n",
       "  <thead>\n",
       "    <tr style=\"text-align: right;\">\n",
       "      <th></th>\n",
       "    </tr>\n",
       "  </thead>\n",
       "  <tbody>\n",
       "  </tbody>\n",
       "</table>\n",
       "</div>"
      ],
      "text/plain": [
       "Empty DataFrame\n",
       "Columns: []\n",
       "Index: []"
      ]
     },
     "execution_count": 25,
     "metadata": {},
     "output_type": "execute_result"
    }
   ],
   "source": [
    "gds.run_cypher(\"\"\"\n",
    "// First, ensure there is a Petal_Width node\n",
    "MERGE (p:Sepal_Length)\n",
    "ON CREATE SET p.name = 'Sepal Length' // You can set properties if needed\n",
    "\n",
    "// Match all Flower_Record nodes and connect them to the Sepal_Length node\n",
    "WITH p\n",
    "MATCH (s:Flower_Record)\n",
    "MERGE (s)-[r:SEPAL_LENGTH]->(p)\n",
    "SET r.Sepal_Length = toFloat(s.Sepal_Length)\n",
    "\"\"\")"
   ]
  },
  {
   "cell_type": "code",
   "execution_count": 26,
   "metadata": {},
   "outputs": [
    {
     "data": {
      "text/html": [
       "<div>\n",
       "<style scoped>\n",
       "    .dataframe tbody tr th:only-of-type {\n",
       "        vertical-align: middle;\n",
       "    }\n",
       "\n",
       "    .dataframe tbody tr th {\n",
       "        vertical-align: top;\n",
       "    }\n",
       "\n",
       "    .dataframe thead th {\n",
       "        text-align: right;\n",
       "    }\n",
       "</style>\n",
       "<table border=\"1\" class=\"dataframe\">\n",
       "  <thead>\n",
       "    <tr style=\"text-align: right;\">\n",
       "      <th></th>\n",
       "    </tr>\n",
       "  </thead>\n",
       "  <tbody>\n",
       "  </tbody>\n",
       "</table>\n",
       "</div>"
      ],
      "text/plain": [
       "Empty DataFrame\n",
       "Columns: []\n",
       "Index: []"
      ]
     },
     "execution_count": 26,
     "metadata": {},
     "output_type": "execute_result"
    }
   ],
   "source": [
    "gds.run_cypher(\"\"\"\n",
    "// First, ensure there is a Petal_Width node\n",
    "MERGE (p:Sepal_Width)\n",
    "ON CREATE SET p.name = 'Sepal Length' // You can set properties if needed\n",
    "\n",
    "// Match all Flower_Record nodes and connect them to the Sepal_Width node\n",
    "WITH p\n",
    "MATCH (s:Flower_Record)\n",
    "MERGE (s)-[r:SEPAL_WIDTH]->(p)\n",
    "SET r.Sepal_Width = toFloat(s.Sepal_Width)\n",
    "\"\"\")"
   ]
  },
  {
   "cell_type": "code",
   "execution_count": null,
   "metadata": {},
   "outputs": [],
   "source": []
  }
 ],
 "metadata": {
  "kernelspec": {
   "display_name": "Python 3",
   "language": "python",
   "name": "python3"
  },
  "language_info": {
   "codemirror_mode": {
    "name": "ipython",
    "version": 3
   },
   "file_extension": ".py",
   "mimetype": "text/x-python",
   "name": "python",
   "nbconvert_exporter": "python",
   "pygments_lexer": "ipython3",
   "version": "3.8.5"
  }
 },
 "nbformat": 4,
 "nbformat_minor": 4
}

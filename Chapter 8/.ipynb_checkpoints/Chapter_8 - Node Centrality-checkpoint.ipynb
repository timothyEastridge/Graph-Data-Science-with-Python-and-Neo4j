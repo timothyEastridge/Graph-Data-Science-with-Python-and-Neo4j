{
 "cells": [
  {
   "cell_type": "code",
   "execution_count": 20,
   "id": "4fd1789c-6682-4e37-9c69-61638cbb86f4",
   "metadata": {
    "tags": []
   },
   "outputs": [
    {
     "name": "stdin",
     "output_type": "stream",
     "text": [
      " ········\n"
     ]
    }
   ],
   "source": [
    "from neo4j import GraphDatabase\n",
    "from graphdatascience import GraphDataScience\n",
    "import pandas as pd\n",
    "from getpass import getpass\n",
    "\n",
    "# Set the display options\n",
    "pd.set_option('display.max_columns', None)\n",
    "pd.set_option('display.expand_frame_repr', False)\n",
    "pd.set_option('max_colwidth', None)\n",
    "\n",
    "# Connect to Neo4j\n",
    "uri = \"bolt://localhost:11005\"  #change as needed\n",
    "user = \"neo4j\"\n",
    "password = getpass()\n",
    "\n",
    "gds = GraphDataScience(uri, auth=(user,password))\n",
    "gds.set_database(\"recipe\")  #change as needed"
   ]
  },
  {
   "cell_type": "markdown",
   "id": "f729620b-cbca-4510-ac8a-6ddf5e00baa9",
   "metadata": {
    "tags": []
   },
   "source": [
    "# Create Projection"
   ]
  },
  {
   "cell_type": "code",
   "execution_count": 32,
   "id": "57c1ff27-3a10-42a6-aa33-c4550f04871e",
   "metadata": {
    "tags": []
   },
   "outputs": [
    {
     "data": {
      "text/html": [
       "<div>\n",
       "<style scoped>\n",
       "    .dataframe tbody tr th:only-of-type {\n",
       "        vertical-align: middle;\n",
       "    }\n",
       "\n",
       "    .dataframe tbody tr th {\n",
       "        vertical-align: top;\n",
       "    }\n",
       "\n",
       "    .dataframe thead th {\n",
       "        text-align: right;\n",
       "    }\n",
       "</style>\n",
       "<table border=\"1\" class=\"dataframe\">\n",
       "  <thead>\n",
       "    <tr style=\"text-align: right;\">\n",
       "      <th></th>\n",
       "      <th>graph</th>\n",
       "      <th>nodes</th>\n",
       "      <th>rels</th>\n",
       "    </tr>\n",
       "  </thead>\n",
       "  <tbody>\n",
       "    <tr>\n",
       "      <th>0</th>\n",
       "      <td>ingredients</td>\n",
       "      <td>8662</td>\n",
       "      <td>105426</td>\n",
       "    </tr>\n",
       "  </tbody>\n",
       "</table>\n",
       "</div>"
      ],
      "text/plain": [
       "         graph  nodes    rels\n",
       "0  ingredients   8662  105426"
      ]
     },
     "execution_count": 32,
     "metadata": {},
     "output_type": "execute_result"
    }
   ],
   "source": [
    "gds.run_cypher(\"\"\"\n",
    "\n",
    "MATCH (source:Recipe)-[:USES]->(target:Ingredient)\n",
    "WHERE source.Recipe_Title CONTAINS 'cornbread'\n",
    "WITH gds.graph.project(\n",
    "  'ingredients',\n",
    "  source,\n",
    "  target,\n",
    "  {},\n",
    "  {undirectedRelationshipTypes: ['*']}\n",
    ") as g\n",
    "RETURN\n",
    "  g.graphName AS graph, g.nodeCount AS nodes, g.relationshipCount AS rels\n",
    "\n",
    "\"\"\")"
   ]
  },
  {
   "cell_type": "markdown",
   "id": "ef9e9b69-aa0a-47f7-a10a-7202d34d5d55",
   "metadata": {
    "tags": []
   },
   "source": [
    "### PageRank"
   ]
  },
  {
   "cell_type": "code",
   "execution_count": 33,
   "id": "7071a67a-521e-4dfe-a145-76e81f03285b",
   "metadata": {
    "tags": []
   },
   "outputs": [
    {
     "data": {
      "text/html": [
       "<div>\n",
       "<style scoped>\n",
       "    .dataframe tbody tr th:only-of-type {\n",
       "        vertical-align: middle;\n",
       "    }\n",
       "\n",
       "    .dataframe tbody tr th {\n",
       "        vertical-align: top;\n",
       "    }\n",
       "\n",
       "    .dataframe thead th {\n",
       "        text-align: right;\n",
       "    }\n",
       "</style>\n",
       "<table border=\"1\" class=\"dataframe\">\n",
       "  <thead>\n",
       "    <tr style=\"text-align: right;\">\n",
       "      <th></th>\n",
       "      <th>writeMillis</th>\n",
       "      <th>nodePropertiesWritten</th>\n",
       "      <th>ranIterations</th>\n",
       "      <th>didConverge</th>\n",
       "      <th>centralityDistribution</th>\n",
       "      <th>postProcessingMillis</th>\n",
       "      <th>preProcessingMillis</th>\n",
       "      <th>computeMillis</th>\n",
       "      <th>configuration</th>\n",
       "    </tr>\n",
       "  </thead>\n",
       "  <tbody>\n",
       "    <tr>\n",
       "      <th>0</th>\n",
       "      <td>274</td>\n",
       "      <td>8662</td>\n",
       "      <td>20</td>\n",
       "      <td>False</td>\n",
       "      <td>{'p99': 6.081786155700684, 'min': 0.21033954620361328, 'max': 231.11230373382568, 'mean': 0.9612402779432291, 'p90': 0.9673337936401367, 'p50': 0.6013288497924805, 'p999': 71.80761623382568, 'p95': 1.2656011581420898, 'p75': 0.7592916488647461}</td>\n",
       "      <td>126</td>\n",
       "      <td>0</td>\n",
       "      <td>149</td>\n",
       "      <td>{'maxIterations': 20, 'writeConcurrency': 4, 'concurrency': 4, 'jobId': '991e5be8-28e0-4669-8b2e-7d71f8ad0183', 'sourceNodes': [], 'writeProperty': 'pageRank', 'scaler': 'NONE', 'logProgress': True, 'nodeLabels': ['*'], 'sudo': False, 'dampingFactor': 0.85, 'relationshipTypes': ['*'], 'tolerance': 1e-07}</td>\n",
       "    </tr>\n",
       "  </tbody>\n",
       "</table>\n",
       "</div>"
      ],
      "text/plain": [
       "   writeMillis  nodePropertiesWritten  ranIterations  didConverge                                                                                                                                                                                                                                centralityDistribution  postProcessingMillis  preProcessingMillis  computeMillis                                                                                                                                                                                                                                                                                                      configuration\n",
       "0          274                   8662             20        False  {'p99': 6.081786155700684, 'min': 0.21033954620361328, 'max': 231.11230373382568, 'mean': 0.9612402779432291, 'p90': 0.9673337936401367, 'p50': 0.6013288497924805, 'p999': 71.80761623382568, 'p95': 1.2656011581420898, 'p75': 0.7592916488647461}                   126                    0            149  {'maxIterations': 20, 'writeConcurrency': 4, 'concurrency': 4, 'jobId': '991e5be8-28e0-4669-8b2e-7d71f8ad0183', 'sourceNodes': [], 'writeProperty': 'pageRank', 'scaler': 'NONE', 'logProgress': True, 'nodeLabels': ['*'], 'sudo': False, 'dampingFactor': 0.85, 'relationshipTypes': ['*'], 'tolerance': 1e-07}"
      ]
     },
     "execution_count": 33,
     "metadata": {},
     "output_type": "execute_result"
    }
   ],
   "source": [
    "gds.run_cypher(\"\"\"\n",
    "\n",
    "CALL gds.pageRank.write('ingredients', { writeProperty: 'pageRank' })\n",
    "\n",
    "\"\"\")"
   ]
  },
  {
   "cell_type": "code",
   "execution_count": 30,
   "id": "c8bb4051-1598-42ae-b029-2aea8c4e5a8d",
   "metadata": {
    "tags": []
   },
   "outputs": [
    {
     "data": {
      "text/html": [
       "<div>\n",
       "<style scoped>\n",
       "    .dataframe tbody tr th:only-of-type {\n",
       "        vertical-align: middle;\n",
       "    }\n",
       "\n",
       "    .dataframe tbody tr th {\n",
       "        vertical-align: top;\n",
       "    }\n",
       "\n",
       "    .dataframe thead th {\n",
       "        text-align: right;\n",
       "    }\n",
       "</style>\n",
       "<table border=\"1\" class=\"dataframe\">\n",
       "  <thead>\n",
       "    <tr style=\"text-align: right;\">\n",
       "      <th></th>\n",
       "      <th>Ingredient</th>\n",
       "      <th>PageRank</th>\n",
       "    </tr>\n",
       "  </thead>\n",
       "  <tbody>\n",
       "    <tr>\n",
       "      <th>0</th>\n",
       "      <td>eggs</td>\n",
       "      <td>54.182461</td>\n",
       "    </tr>\n",
       "    <tr>\n",
       "      <th>1</th>\n",
       "      <td>salt</td>\n",
       "      <td>46.786139</td>\n",
       "    </tr>\n",
       "    <tr>\n",
       "      <th>2</th>\n",
       "      <td>onion</td>\n",
       "      <td>38.607501</td>\n",
       "    </tr>\n",
       "    <tr>\n",
       "      <th>3</th>\n",
       "      <td>milk</td>\n",
       "      <td>28.057664</td>\n",
       "    </tr>\n",
       "    <tr>\n",
       "      <th>4</th>\n",
       "      <td>sugar</td>\n",
       "      <td>24.776241</td>\n",
       "    </tr>\n",
       "    <tr>\n",
       "      <th>5</th>\n",
       "      <td>baking powder</td>\n",
       "      <td>24.219077</td>\n",
       "    </tr>\n",
       "    <tr>\n",
       "      <th>6</th>\n",
       "      <td>flour</td>\n",
       "      <td>20.145594</td>\n",
       "    </tr>\n",
       "    <tr>\n",
       "      <th>7</th>\n",
       "      <td>egg</td>\n",
       "      <td>18.830970</td>\n",
       "    </tr>\n",
       "    <tr>\n",
       "      <th>8</th>\n",
       "      <td>buttermilk</td>\n",
       "      <td>16.750039</td>\n",
       "    </tr>\n",
       "    <tr>\n",
       "      <th>9</th>\n",
       "      <td>butter</td>\n",
       "      <td>15.792249</td>\n",
       "    </tr>\n",
       "  </tbody>\n",
       "</table>\n",
       "</div>"
      ],
      "text/plain": [
       "      Ingredient   PageRank\n",
       "0           eggs  54.182461\n",
       "1           salt  46.786139\n",
       "2          onion  38.607501\n",
       "3           milk  28.057664\n",
       "4          sugar  24.776241\n",
       "5  baking powder  24.219077\n",
       "6          flour  20.145594\n",
       "7            egg  18.830970\n",
       "8     buttermilk  16.750039\n",
       "9         butter  15.792249"
      ]
     },
     "execution_count": 30,
     "metadata": {},
     "output_type": "execute_result"
    }
   ],
   "source": [
    "gds.run_cypher(\"\"\"\n",
    "\n",
    "MATCH (r:Recipe)-[:USES]->(i:Ingredient)\n",
    "WHERE r.Recipe_Title CONTAINS 'cornbread'\n",
    "WITH DISTINCT i\n",
    "RETURN i.Ingredient_Name AS Ingredient, i.pageRank AS PageRank\n",
    "ORDER BY i.pageRank DESC\n",
    "LIMIT 10\n",
    "\n",
    "\"\"\")"
   ]
  },
  {
   "cell_type": "code",
   "execution_count": null,
   "id": "6a3e8107-309d-4de1-b79c-8741e0189d54",
   "metadata": {},
   "outputs": [],
   "source": []
  },
  {
   "cell_type": "code",
   "execution_count": null,
   "id": "d906af11-ebc3-449c-8a98-a7d4b30bdabb",
   "metadata": {},
   "outputs": [],
   "source": []
  },
  {
   "cell_type": "markdown",
   "id": "bfd84ca9-766d-4ea3-84e3-0ed35b250888",
   "metadata": {
    "tags": []
   },
   "source": [
    "# Drop Projection"
   ]
  },
  {
   "cell_type": "code",
   "execution_count": 31,
   "id": "da068e70-bd46-4b73-8f6a-1c720aba0efb",
   "metadata": {
    "tags": []
   },
   "outputs": [
    {
     "data": {
      "text/html": [
       "<div>\n",
       "<style scoped>\n",
       "    .dataframe tbody tr th:only-of-type {\n",
       "        vertical-align: middle;\n",
       "    }\n",
       "\n",
       "    .dataframe tbody tr th {\n",
       "        vertical-align: top;\n",
       "    }\n",
       "\n",
       "    .dataframe thead th {\n",
       "        text-align: right;\n",
       "    }\n",
       "</style>\n",
       "<table border=\"1\" class=\"dataframe\">\n",
       "  <thead>\n",
       "    <tr style=\"text-align: right;\">\n",
       "      <th></th>\n",
       "      <th>graphName</th>\n",
       "      <th>database</th>\n",
       "      <th>memoryUsage</th>\n",
       "      <th>sizeInBytes</th>\n",
       "      <th>nodeCount</th>\n",
       "      <th>relationshipCount</th>\n",
       "      <th>configuration</th>\n",
       "      <th>density</th>\n",
       "      <th>creationTime</th>\n",
       "      <th>modificationTime</th>\n",
       "      <th>schema</th>\n",
       "      <th>schemaWithOrientation</th>\n",
       "    </tr>\n",
       "  </thead>\n",
       "  <tbody>\n",
       "    <tr>\n",
       "      <th>0</th>\n",
       "      <td>ingredients</td>\n",
       "      <td>recipe</td>\n",
       "      <td></td>\n",
       "      <td>-1</td>\n",
       "      <td>8662</td>\n",
       "      <td>52713</td>\n",
       "      <td>{'jobId': 'ec38982f-5cdb-49fd-9940-212b6a41e70e', 'creationTime': 2023-12-04T08:03:33.958933600-05:00, 'inverseIndexedRelationshipTypes': [], 'logProgress': True, 'undirectedRelationshipTypes': []}</td>\n",
       "      <td>0.000703</td>\n",
       "      <td>2023-12-04T08:03:33.958933600-05:00</td>\n",
       "      <td>2023-12-04T08:03:35.094594200-05:00</td>\n",
       "      <td>{'graphProperties': {}, 'relationships': {'__ALL__': {}}, 'nodes': {'__ALL__': {}}}</td>\n",
       "      <td>{'graphProperties': {}, 'relationships': {'__ALL__': {'properties': {}, 'direction': 'DIRECTED'}}, 'nodes': {'__ALL__': {}}}</td>\n",
       "    </tr>\n",
       "  </tbody>\n",
       "</table>\n",
       "</div>"
      ],
      "text/plain": [
       "     graphName database memoryUsage  sizeInBytes  nodeCount  relationshipCount                                                                                                                                                                                          configuration   density                         creationTime                     modificationTime                                                                               schema                                                                                                         schemaWithOrientation\n",
       "0  ingredients   recipe                       -1       8662              52713  {'jobId': 'ec38982f-5cdb-49fd-9940-212b6a41e70e', 'creationTime': 2023-12-04T08:03:33.958933600-05:00, 'inverseIndexedRelationshipTypes': [], 'logProgress': True, 'undirectedRelationshipTypes': []}  0.000703  2023-12-04T08:03:33.958933600-05:00  2023-12-04T08:03:35.094594200-05:00  {'graphProperties': {}, 'relationships': {'__ALL__': {}}, 'nodes': {'__ALL__': {}}}  {'graphProperties': {}, 'relationships': {'__ALL__': {'properties': {}, 'direction': 'DIRECTED'}}, 'nodes': {'__ALL__': {}}}"
      ]
     },
     "execution_count": 31,
     "metadata": {},
     "output_type": "execute_result"
    }
   ],
   "source": [
    "gds.run_cypher(\"\"\"\n",
    "\n",
    "CALL gds.graph.drop('ingredients')\n",
    "\n",
    "\"\"\")"
   ]
  },
  {
   "cell_type": "code",
   "execution_count": null,
   "id": "97ebe966-0829-493c-a5f1-00fd8d60b20e",
   "metadata": {},
   "outputs": [],
   "source": []
  }
 ],
 "metadata": {
  "kernelspec": {
   "display_name": "Python 3 (ipykernel)",
   "language": "python",
   "name": "python3"
  },
  "language_info": {
   "codemirror_mode": {
    "name": "ipython",
    "version": 3
   },
   "file_extension": ".py",
   "mimetype": "text/x-python",
   "name": "python",
   "nbconvert_exporter": "python",
   "pygments_lexer": "ipython3",
   "version": "3.11.5"
  }
 },
 "nbformat": 4,
 "nbformat_minor": 5
}

{
 "cells": [
  {
   "cell_type": "code",
   "execution_count": null,
   "id": "4fd1789c-6682-4e37-9c69-61638cbb86f4",
   "metadata": {
    "tags": []
   },
   "outputs": [],
   "source": [
    "from neo4j import GraphDatabase\n",
    "from graphdatascience import GraphDataScience\n",
    "import pandas as pd\n",
    "from getpass import getpass\n",
    "\n",
    "# Set the display options\n",
    "pd.set_option('display.max_columns', None)\n",
    "pd.set_option('display.expand_frame_repr', False)\n",
    "pd.set_option('max_colwidth', None)\n",
    "\n",
    "# Connect to Neo4j\n",
    "uri = \"bolt://localhost:11005\"  #change as needed\n",
    "user = \"neo4j\"\n",
    "password = getpass()\n",
    "\n",
    "gds = GraphDataScience(uri, auth=(user,password))\n",
    "gds.set_database(\"recipe\")  #change as needed"
   ]
  },
  {
   "cell_type": "markdown",
   "id": "f729620b-cbca-4510-ac8a-6ddf5e00baa9",
   "metadata": {
    "tags": []
   },
   "source": [
    "# Create Projection"
   ]
  },
  {
   "cell_type": "code",
   "execution_count": null,
   "id": "57c1ff27-3a10-42a6-aa33-c4550f04871e",
   "metadata": {
    "tags": []
   },
   "outputs": [],
   "source": [
    "gds.run_cypher(\"\"\"\n",
    "\n",
    "MATCH (source:Recipe)-[:USES]->(target:Ingredient)\n",
    "WHERE source.Recipe_Title CONTAINS 'cornbread'\n",
    "    AND source.pageRank IS NOT NULL\n",
    "    AND target.pageRank IS NOT NULL\n",
    "WITH gds.graph.project(\n",
    "  'ingredients',\n",
    "  source,\n",
    "  target,\n",
    "  {\n",
    "    sourceNodeProperties: source { pageRank: coalesce(source.pageRank, 0.001)},\n",
    "    targetNodeProperties: target { pageRank: coalesce(target.pageRank, 0.001)}\n",
    "  },\n",
    "  {undirectedRelationshipTypes: ['*']}\n",
    ") as g\n",
    "RETURN\n",
    "  g.graphName AS graph, g.nodeCount AS nodes, g.relationshipCount AS rels\n",
    "\n",
    "\"\"\")"
   ]
  },
  {
   "cell_type": "markdown",
   "id": "ef9e9b69-aa0a-47f7-a10a-7202d34d5d55",
   "metadata": {
    "tags": []
   },
   "source": [
    "### GraphSAGE"
   ]
  },
  {
   "cell_type": "code",
   "execution_count": null,
   "id": "7071a67a-521e-4dfe-a145-76e81f03285b",
   "metadata": {
    "tags": []
   },
   "outputs": [],
   "source": [
    "gds.run_cypher(\"\"\"\n",
    "\n",
    "CALL gds.beta.graphSage.train(\n",
    "  'ingredients',\n",
    "  {\n",
    "    modelName: 'graphSageModel',\n",
    "    featureProperties: ['pageRank'],  \n",
    "    aggregator: 'mean',  \n",
    "    epochs: 10,  \n",
    "    searchDepth: 5  \n",
    "  }\n",
    ")\n",
    "YIELD modelInfo\n",
    "RETURN modelInfo\n",
    "\n",
    "\"\"\")"
   ]
  },
  {
   "cell_type": "code",
   "execution_count": null,
   "id": "c8bb4051-1598-42ae-b029-2aea8c4e5a8d",
   "metadata": {
    "tags": []
   },
   "outputs": [],
   "source": [
    "gds.run_cypher(\"\"\"\n",
    "\n",
    "CALL gds.beta.graphSage.write(\n",
    "  'ingredients',\n",
    "  {\n",
    "    modelName: 'graphSageModel',\n",
    "    writeProperty: 'embedding'\n",
    "  }\n",
    ")\n",
    "YIELD nodePropertiesWritten\n",
    "RETURN nodePropertiesWritten\n",
    "\n",
    "\"\"\")"
   ]
  },
  {
   "cell_type": "markdown",
   "id": "0ac84f9a-e829-4b1b-9533-ae26494b4578",
   "metadata": {
    "tags": []
   },
   "source": [
    "##### Visually represent the embeddings"
   ]
  },
  {
   "cell_type": "code",
   "execution_count": null,
   "id": "5f6a1364-b502-4f98-a4ce-734bcf3a78d7",
   "metadata": {
    "tags": []
   },
   "outputs": [],
   "source": [
    "df = gds.run_cypher(\"\"\"\n",
    "\n",
    "MATCH (source:Recipe)\n",
    "WHERE source.Recipe_Title CONTAINS 'cornbread'\n",
    "    AND source.pageRank IS NOT NULL\n",
    "RETURN source.Recipe_Title as Recipe_Title\n",
    ", source.pageRank as pageRank\n",
    ", source.embedding as embedding\n",
    "ORDER BY pageRank DESC\n",
    "\n",
    "\"\"\")\n",
    "df.head(n=2)"
   ]
  },
  {
   "cell_type": "code",
   "execution_count": null,
   "id": "ba13dac6-ec9f-4f3d-a730-12903075efbb",
   "metadata": {
    "tags": []
   },
   "outputs": [],
   "source": [
    "# pip install hdbscan\n"
   ]
  },
  {
   "cell_type": "code",
   "execution_count": null,
   "id": "8b984a1f-1c85-426c-944b-e78f7f872d82",
   "metadata": {
    "tags": []
   },
   "outputs": [],
   "source": [
    "import umap\n",
    "import numpy as np\n",
    "import pandas as pd\n",
    "import plotly.express as px\n",
    "from sklearn.cluster import KMeans\n",
    "\n",
    "embeddings = np.array(df['embedding'].tolist())\n",
    "\n",
    "reducer = umap.UMAP(n_neighbors=15,  # Try different values for n_neighbors\n",
    "                    min_dist=0.1,    # Try different values for min_dist\n",
    "                    random_state=42)\n",
    "umap_embeddings = reducer.fit_transform(embeddings)\n",
    "\n",
    "n_clusters = 10\n",
    "kmeans = KMeans(n_clusters=n_clusters, random_state=42)\n",
    "cluster_labels = kmeans.fit_predict(umap_embeddings)\n",
    "\n",
    "umap_df = pd.DataFrame(umap_embeddings, columns=['x', 'y'])\n",
    "umap_df['cluster'] = cluster_labels  # Add cluster labels to the DataFrame\n",
    "\n",
    "# Plot using Plotly with cluster colors\n",
    "fig = px.scatter(umap_df, x='x', y='y', color='cluster', title='2D UMAP visualization of Recipe Embeddings with K-Means Clusters')\n",
    "fig.update_traces(marker=dict(size=5))\n",
    "fig.show()\n"
   ]
  },
  {
   "cell_type": "code",
   "execution_count": null,
   "id": "4808da27-61df-4fe9-a07c-7424ee83eeb5",
   "metadata": {
    "tags": []
   },
   "outputs": [],
   "source": [
    "import umap\n",
    "import numpy as np\n",
    "import pandas as pd\n",
    "import matplotlib.pyplot as plt\n",
    "import seaborn as sns\n",
    "from sklearn.cluster import KMeans\n",
    "\n",
    "# Your embeddings are assumed to be in a DataFrame 'df' under the column 'embedding'\n",
    "embeddings = np.array(df['embedding'].tolist())\n",
    "\n",
    "# Reduce dimensions with UMAP\n",
    "reducer = umap.UMAP(n_neighbors=15, min_dist=0.1, random_state=42)\n",
    "umap_embeddings = reducer.fit_transform(embeddings)\n",
    "\n",
    "# Cluster the embeddings with K-Means\n",
    "n_clusters = 10  # Update this if necessary\n",
    "kmeans = KMeans(n_clusters=n_clusters, random_state=42)\n",
    "cluster_labels = kmeans.fit_predict(umap_embeddings)\n",
    "\n",
    "# Create a DataFrame for plotting\n",
    "plot_df = pd.DataFrame(umap_embeddings, columns=['UMAP Dimension 1', 'UMAP Dimension 2'])\n",
    "plot_df['Cluster'] = cluster_labels\n",
    "\n",
    "# Plot using Seaborn\n",
    "plt.figure(figsize=(10, 8))\n",
    "sns.scatterplot(\n",
    "    x='UMAP Dimension 1', y='UMAP Dimension 2',\n",
    "    hue='Cluster',\n",
    "    palette=sns.color_palette(\"hsv\", n_clusters),\n",
    "    data=plot_df,\n",
    "    legend=\"full\",\n",
    "    alpha=0.8\n",
    ")\n",
    "plt.title('2D UMAP visualization of Recipe Embeddings with K-Means Clusters')\n",
    "plt.show()\n"
   ]
  },
  {
   "cell_type": "code",
   "execution_count": null,
   "id": "efba8a91-67a6-42bf-a890-75a6e5556454",
   "metadata": {},
   "outputs": [],
   "source": []
  },
  {
   "cell_type": "code",
   "execution_count": null,
   "id": "d906af11-ebc3-449c-8a98-a7d4b30bdabb",
   "metadata": {},
   "outputs": [],
   "source": []
  },
  {
   "cell_type": "markdown",
   "id": "bfd84ca9-766d-4ea3-84e3-0ed35b250888",
   "metadata": {
    "tags": []
   },
   "source": [
    "# Drop Projection"
   ]
  },
  {
   "cell_type": "code",
   "execution_count": null,
   "id": "da068e70-bd46-4b73-8f6a-1c720aba0efb",
   "metadata": {
    "tags": []
   },
   "outputs": [],
   "source": [
    "gds.run_cypher(\"\"\"\n",
    "\n",
    "CALL gds.graph.drop('ingredients')\n",
    "\n",
    "\"\"\")"
   ]
  },
  {
   "cell_type": "code",
   "execution_count": null,
   "id": "936d8f9c-efcf-4d69-a2f5-1b2b0ccdecac",
   "metadata": {
    "tags": []
   },
   "outputs": [],
   "source": [
    "gds.run_cypher(\"\"\"\n",
    "\n",
    "CALL gds.beta.model.drop('graphSageModel')\n",
    "YIELD modelInfo\n",
    "RETURN modelInfo\n",
    "\n",
    "\"\"\")"
   ]
  },
  {
   "cell_type": "code",
   "execution_count": null,
   "id": "97ebe966-0829-493c-a5f1-00fd8d60b20e",
   "metadata": {},
   "outputs": [],
   "source": [
    "\n"
   ]
  }
 ],
 "metadata": {
  "kernelspec": {
   "display_name": "Python 3 (ipykernel)",
   "language": "python",
   "name": "python3"
  },
  "language_info": {
   "codemirror_mode": {
    "name": "ipython",
    "version": 3
   },
   "file_extension": ".py",
   "mimetype": "text/x-python",
   "name": "python",
   "nbconvert_exporter": "python",
   "pygments_lexer": "ipython3",
   "version": "3.11.5"
  }
 },
 "nbformat": 4,
 "nbformat_minor": 5
}

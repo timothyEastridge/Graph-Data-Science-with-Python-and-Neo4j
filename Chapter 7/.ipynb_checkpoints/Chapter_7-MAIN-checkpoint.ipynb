{
 "cells": [
  {
   "cell_type": "code",
   "execution_count": 35,
   "metadata": {},
   "outputs": [],
   "source": [
    "# !pip install spacy"
   ]
  },
  {
   "cell_type": "code",
   "execution_count": 42,
   "metadata": {},
   "outputs": [],
   "source": [
    "# !pip uninstall torch torchvision torchaudio -y  \n",
    "\n"
   ]
  },
  {
   "cell_type": "code",
   "execution_count": 43,
   "metadata": {},
   "outputs": [],
   "source": [
    "# !pip install torch torchvision torchaudio  "
   ]
  },
  {
   "cell_type": "code",
   "execution_count": 44,
   "metadata": {},
   "outputs": [],
   "source": [
    "# !python -m spacy download en_core_web_sm"
   ]
  },
  {
   "cell_type": "code",
   "execution_count": null,
   "metadata": {},
   "outputs": [],
   "source": []
  },
  {
   "cell_type": "markdown",
   "metadata": {},
   "source": [
    "## Load Libraries and API Configurations"
   ]
  },
  {
   "cell_type": "code",
   "execution_count": 88,
   "metadata": {},
   "outputs": [
    {
     "name": "stderr",
     "output_type": "stream",
     "text": [
      "Failed to write data to connection IPv4Address(('483c47f7.databases.neo4j.io', 7687)) (IPv4Address(('34.69.128.95', 7687)))\n",
      "Failed to write data to connection ResolvedIPv4Address(('34.69.128.95', 7687)) (IPv4Address(('34.69.128.95', 7687)))\n"
     ]
    }
   ],
   "source": [
    "from langchain.embeddings.openai import OpenAIEmbeddings\n",
    "from langchain.text_splitter import CharacterTextSplitter\n",
    "from langchain.vectorstores import Neo4jVector\n",
    "from langchain.document_loaders import TextLoader\n",
    "from langchain.docstore.document import Document\n",
    "import pandas as pd\n",
    "from langchain.graphs import Neo4jGraph\n",
    "from langchain.vectorstores import Neo4jVector\n",
    "from langchain.embeddings.openai import OpenAIEmbeddings\n",
    "import os\n",
    "import openai\n",
    "from neo4j import GraphDatabase\n",
    "from graphdatascience import GraphDataScience\n",
    "\n",
    "url = \"neo4j+s://483c47f7.databases.neo4j.io\"\n",
    "username = \"neo4j\"\n",
    "password = \"\"\n",
    "\n",
    "graph = Neo4jGraph(\n",
    "    url=url,\n",
    "    username=username,\n",
    "    password=password\n",
    ")\n",
    "\n",
    "openai_api_key = \"\"\n",
    "openai.api_key = openai_api_key\n",
    "\n",
    "\n",
    "os.environ['OPENAI_API_KEY'] = openai_api_key"
   ]
  },
  {
   "cell_type": "markdown",
   "metadata": {},
   "source": [
    "## Load the Text"
   ]
  },
  {
   "cell_type": "code",
   "execution_count": 89,
   "metadata": {},
   "outputs": [
    {
     "name": "stdout",
     "output_type": "stream",
     "text": [
      "ITEM 1. \n",
      "\n",
      "BUSINESS\n",
      "\n",
      "##TABLE_END\n",
      "\n",
      "Overview \n",
      "\n",
      "We design, develop, manufacture, sell and lease\n",
      "high-performance fully electric vehicles and energy generation and storage systems, and offer\n",
      "services related to our sustainable energy products. We generally sell our products directly to\n",
      "customers, including through our website and retail locations. We also continue to grow our\n",
      "customer-facing infrastructure through a global network of vehicle service centers, Mobile Service\n",
      "technicians, body shops, Supercharger stations and Destination Chargers to accelerate the widespread\n",
      "adoption of our products. We emphasize performance, attractive styling and the safety of our users\n",
      "and workforce in the design and manufacture of our products and are continuing to develop full\n",
      "self-driving technology for improved safety. We also strive to lower the cost of ownership for our\n",
      "customers through continuous efforts to reduce manufacturing costs and by offering financial\n",
      "services tailored to our products. Our\n"
     ]
    }
   ],
   "source": [
    "# Reference Link:  https://sec-api.io/resources/extract-textual-data-from-edgar-10-k-filings-using-python\n",
    "# Load 1 section\n",
    "\n",
    "SEC_API_KEY = ''\n",
    "from sec_api import ExtractorApi\n",
    "\n",
    "extractorApi = ExtractorApi(SEC_API_KEY)\n",
    "\n",
    "# helper function to pretty print long, single-line text to multi-line text\n",
    "def pprint(text, line_length=100):\n",
    "  words = text.split(' ')\n",
    "  lines = []\n",
    "  current_line = ''\n",
    "  for word in words:\n",
    "    if len(current_line + ' ' + word) <= line_length:\n",
    "      current_line += ' ' + word\n",
    "    else:\n",
    "      lines.append(current_line.strip())\n",
    "      current_line = word\n",
    "  if current_line:\n",
    "    lines.append(current_line.strip())\n",
    "  print('\\n'.join(lines))\n",
    "\n",
    "# URL of Tesla's 10-K filing\n",
    "filing_10_k_url = 'https://www.sec.gov/Archives/edgar/data/1318605/000156459021004599/tsla-10k_20201231.htm'\n",
    "\n",
    "# extract text section \"Item 1 - Business\" from 10-K\n",
    "item_1_text = extractorApi.get_section(filing_10_k_url, '1', 'text')\n",
    "t = pprint(item_1_text[0:1000])\n",
    "t"
   ]
  },
  {
   "cell_type": "code",
   "execution_count": null,
   "metadata": {},
   "outputs": [],
   "source": []
  },
  {
   "cell_type": "code",
   "execution_count": 90,
   "metadata": {},
   "outputs": [],
   "source": [
    "# Load several sections\n",
    "item_1_text    = extractorApi.get_section(filing_10_k_url, '1', 'text')\n",
    "item_2_text    = extractorApi.get_section(filing_10_k_url, '2', 'text')\n",
    "item_3_text    = extractorApi.get_section(filing_10_k_url, '3', 'text')"
   ]
  },
  {
   "cell_type": "code",
   "execution_count": 91,
   "metadata": {},
   "outputs": [],
   "source": [
    "class Document:\n",
    "    def __init__(self, page_content, metadata=None):\n",
    "        self.page_content = page_content\n",
    "        self.metadata = metadata if metadata is not None else {}\n",
    "\n",
    "# Now create Document instances and pass an empty dictionary for metadata\n",
    "doc1 = Document(page_content=item_1_text, metadata={})\n",
    "doc2 = Document(page_content=item_2_text, metadata={})\n",
    "doc3 = Document(page_content=item_3_text, metadata={})\n",
    "\n",
    "# Combine the documents into a list\n",
    "combined_docs = [doc1, doc2, doc3]\n",
    "\n",
    "# Use the text splitter\n",
    "text_splitter = CharacterTextSplitter(chunk_size=2000, chunk_overlap=20)\n",
    "docs = text_splitter.split_documents(combined_docs)\n",
    "\n"
   ]
  },
  {
   "cell_type": "code",
   "execution_count": null,
   "metadata": {},
   "outputs": [],
   "source": []
  },
  {
   "cell_type": "code",
   "execution_count": null,
   "metadata": {},
   "outputs": [],
   "source": []
  },
  {
   "cell_type": "markdown",
   "metadata": {},
   "source": [
    "## Create a Graph Index"
   ]
  },
  {
   "cell_type": "code",
   "execution_count": 31,
   "metadata": {},
   "outputs": [
    {
     "data": {
      "text/plain": [
       "[]"
      ]
     },
     "execution_count": 31,
     "metadata": {},
     "output_type": "execute_result"
    }
   ],
   "source": [
    "graph.query(\"\"\"\n",
    "CALL db.index.vector.createNodeIndex(\n",
    "    'TeslaEmbeddings', //index name\n",
    "    'Chunk', //node label\n",
    "    'tesla_embedding', //property name\n",
    "    1536, //vector size\n",
    "    'cosine' //similarity metric\n",
    ")\n",
    "\"\"\")"
   ]
  },
  {
   "cell_type": "markdown",
   "metadata": {},
   "source": [
    "## Use new index to store embeddings"
   ]
  },
  {
   "cell_type": "code",
   "execution_count": 29,
   "metadata": {},
   "outputs": [
    {
     "name": "stdout",
     "output_type": "stream",
     "text": [
      "Help on method from_documents in module langchain.vectorstores.neo4j_vector:\n",
      "\n",
      "from_documents(documents: 'List[Document]', embedding: 'Embeddings', distance_strategy: 'DistanceStrategy' = <DistanceStrategy.COSINE: 'COSINE'>, ids: 'Optional[List[str]]' = None, **kwargs: 'Any') -> 'Neo4jVector' method of abc.ABCMeta instance\n",
      "    Return Neo4jVector initialized from documents and embeddings.\n",
      "    Neo4j credentials are required in the form of `url`, `username`,\n",
      "    and `password` and optional `database` parameters.\n",
      "\n"
     ]
    }
   ],
   "source": [
    "help(Neo4jVector.from_documents)"
   ]
  },
  {
   "cell_type": "code",
   "execution_count": 32,
   "metadata": {},
   "outputs": [],
   "source": [
    "hybrid_db = Neo4jVector.from_documents(\n",
    "    docs, \n",
    "    OpenAIEmbeddings(), \n",
    "    url=url, \n",
    "    username=username, \n",
    "    password=password,\n",
    "    index_name = \"TeslaEmbeddings\",\n",
    "    search_type=\"hybrid\"\n",
    ")"
   ]
  },
  {
   "cell_type": "markdown",
   "metadata": {},
   "source": [
    "## Use new index to store embeddings"
   ]
  },
  {
   "cell_type": "code",
   "execution_count": 47,
   "metadata": {},
   "outputs": [],
   "source": [
    "index_name = \"TeslaEmbeddings\"  # default index name\n",
    "\n",
    "store = Neo4jVector.from_existing_index(\n",
    "    OpenAIEmbeddings(),\n",
    "    url=url,\n",
    "    username=username,\n",
    "    password=password,\n",
    "    index_name=index_name,\n",
    ")"
   ]
  },
  {
   "cell_type": "code",
   "execution_count": 52,
   "metadata": {},
   "outputs": [],
   "source": [
    "from langchain.chat_models import ChatOpenAI\n",
    "from langchain.chains import RetrievalQAWithSourcesChain\n",
    "\n",
    "chain = RetrievalQAWithSourcesChain.from_chain_type(\n",
    "    ChatOpenAI(temperature=0),\n",
    "    chain_type=\"stuff\",\n",
    "    retriever=store.as_retriever()\n",
    ")"
   ]
  },
  {
   "cell_type": "code",
   "execution_count": 55,
   "metadata": {},
   "outputs": [],
   "source": [
    "from langchain.chains import ConversationalRetrievalChain\n",
    "from langchain.memory import ConversationBufferMemory\n",
    "\n",
    "memory = ConversationBufferMemory(memory_key=\"chat_history\", return_messages=True)\n",
    "qa = ConversationalRetrievalChain.from_llm(\n",
    "    ChatOpenAI(temperature=0), store.as_retriever(), memory=memory)"
   ]
  },
  {
   "cell_type": "code",
   "execution_count": 58,
   "metadata": {},
   "outputs": [
    {
     "name": "stdout",
     "output_type": "stream",
     "text": [
      "The documents cover the following topics:\n",
      "\n",
      "1. Legal proceedings and potential penalties related to environmental regulations.\n",
      "2. Overview of Tesla's business, including the design, development, manufacturing, and sales of electric vehicles and energy generation and storage systems.\n",
      "3. Segment information, including the automotive segment and the energy generation and storage segment.\n",
      "4. The use, storage, and disposal of lithium-ion battery packs and ongoing regulatory changes.\n",
      "5. Regulations applicable to solar and battery storage providers, including interconnection agreements with utilities.\n",
      "6. Net metering and its availability to solar customers in most states in the U.S.\n",
      "7. Competition in the automotive market.\n"
     ]
    }
   ],
   "source": [
    "print(qa({\"question\": \"What are the topics covered in these documents?\"})[\"answer\"])"
   ]
  },
  {
   "cell_type": "code",
   "execution_count": 61,
   "metadata": {},
   "outputs": [
    {
     "name": "stdout",
     "output_type": "stream",
     "text": [
      "The legal proceedings discussed in the document include:\n",
      "\n",
      "1. Notices of violation issued by the Bay Area Air Quality Management District (BAAQMD) relating to air permitting and compliance for the Fremont Factory. Formal proceedings have not been initiated, and Tesla has disputed certain allegations. The potential penalties are not specified, but it is stated that any material proceeding is likely to have penalties exceeding $1 million.\n",
      "\n",
      "2. The German Umweltbundesamt has issued a notice and fine of 12 million euros to Tesla's subsidiary in Germany for alleged non-compliance with market participation notifications and take-back obligations for end-of-life battery products. The outcome and final amount of penalties are uncertain, but Tesla has filed an objection, and it is not expected to have a material adverse impact on the business.\n",
      "\n",
      "3. Challenges from automobile dealer trade associations regarding the legality of Tesla's operations and attempts to limit or prohibit the company's ability to operate existing stores or expand to new locations. The specific potential penalties are not mentioned.\n",
      "\n",
      "4. Follow-up information request from the Environmental Protection Agency (EPA) regarding the compliance of Tesla's Fremont Factory operations with the Clean Air Act. The outcome of this matter is unknown, but it is not currently expected to have a material adverse impact on the business.\n",
      "\n",
      "Please note that the document does not provide specific details about potential penalties for each legal proceeding.\n"
     ]
    }
   ],
   "source": [
    "legal = qa({\"question\": \"What legal proceedings and potential penalties are discussed in these documents?\"})[\"answer\"]\n",
    "print(legal)"
   ]
  },
  {
   "cell_type": "code",
   "execution_count": 62,
   "metadata": {},
   "outputs": [
    {
     "name": "stdout",
     "output_type": "stream",
     "text": [
      "Tesla is a company that designs, develops, manufactures, sells, and leases high-performance fully electric vehicles and energy generation and storage systems. They offer a range of products and services related to sustainable energy. Tesla sells its products directly to customers through its website and retail locations. They also have a global network of vehicle service centers, Mobile Service technicians, body shops, Supercharger stations, and Destination Chargers to support their customers. \n",
      "\n",
      "In terms of their products, Tesla's automotive segment includes the design, development, manufacturing, sales, and leasing of electric vehicles. They offer models such as the Model 3, Model Y, Model S, and Model X. They also provide services like non-warranty after-sales vehicle services, sales of used vehicles, retail merchandise, and vehicle insurance revenue.\n",
      "\n",
      "The energy generation and storage segment of Tesla's business involves the design, manufacture, installation, sales, and leasing of solar energy generation and energy storage products. They offer solar energy systems and related services, as well as sales of solar energy system incentives.\n",
      "\n",
      "Overall, Tesla's mission is to accelerate the world's transition to sustainable energy. They differentiate themselves through their engineering expertise, vertically integrated business model, and focus on user experience.\n"
     ]
    }
   ],
   "source": [
    "business_overview = qa({\"question\": \"Provide a business overview.\"})[\"answer\"]\n",
    "print(business_overview)"
   ]
  },
  {
   "cell_type": "code",
   "execution_count": 63,
   "metadata": {},
   "outputs": [
    {
     "name": "stdout",
     "output_type": "stream",
     "text": [
      "The documents discuss several regulatory impacts and changes, including:\n",
      "\n",
      "1. Compliance with federal laws administered by NHTSA: The company is required to comply with various federal laws, such as CAFE standards, Theft Prevention Act requirements, consumer information labeling requirements, Early Warning Reporting requirements, and more.\n",
      "\n",
      "2. Disclosure requirements: The U.S. Automobile Information and Disclosure Act requires manufacturers to disclose certain information regarding the manufacturer's suggested retail price, optional equipment and pricing. Fuel economy ratings and safety ratings are also required to be included.\n",
      "\n",
      "3. Foreign regulations: Vehicles sold outside of the U.S. are subject to foreign safety, environmental, and other regulations. These regulations may differ from those in the U.S. and may require redesign and retesting of vehicles.\n",
      "\n",
      "4. European Union regulations: The European Union has established new rules regarding additional compliance oversight, which commenced in 2020. There is also regulatory uncertainty related to the United Kingdom's withdrawal from the European Union.\n",
      "\n",
      "5. Self-driving vehicle regulations: Laws pertaining to self-driving vehicles are evolving globally. While there are currently no federal U.S. regulations specifically pertaining to self-driving vehicles, NHTSA has published recommended guidelines. Certain U.S. states have legal restrictions on self-driving vehicles, and other states are considering them. Similar restrictions and regulations exist in other markets, such as those following the regulations of the United Nations Economic Commission for Europe and China.\n",
      "\n",
      "6. Environmental regulations: The company has received notices of violation from the Bay Area Air Quality Management District relating to air permitting and compliance for the Fremont Factory. The company is in communication with the district and does not expect a material adverse impact on its business. Additionally, the German Umweltbundesamt has issued a notice and fine to the company's subsidiary in Germany for alleged non-compliance with applicable laws relating to end-of-life battery products. The outcome of this matter is uncertain, but it is not expected to have a material adverse impact on the business.\n",
      "\n",
      "7. EPA compliance: The company has received a follow-up information request from the EPA regarding the compliance of its Fremont Factory operations with applicable requirements under the Clean Air Act. The outcome of this matter is uncertain, but it is not currently expected to have a material adverse impact on the business.\n"
     ]
    }
   ],
   "source": [
    "regulatory = qa({\"question\": \"Which regulatory impacts and changes are discussed?\"})[\"answer\"]\n",
    "print(regulatory)"
   ]
  },
  {
   "cell_type": "code",
   "execution_count": 64,
   "metadata": {
    "scrolled": true
   },
   "outputs": [
    {
     "name": "stdout",
     "output_type": "stream",
     "text": [
      "Tesla's competitors in the automotive market include established automobile manufacturers producing internal combustion vehicles, as well as new and established manufacturers entering the market for electric and alternative fuel vehicles. Many major automobile manufacturers have electric vehicles available today, and others are developing electric vehicles. In addition, several manufacturers offer hybrid vehicles.\n",
      "\n",
      "In terms of energy storage systems, Tesla competes with both established and emerging companies that offer similar products or alternatives to its systems. Competition is based on factors such as price, energy density, and efficiency. Tesla believes its strong brand, product specifications, and modular, scalable nature of its energy storage products give it a competitive advantage.\n",
      "\n",
      "In the solar energy business, Tesla competes with traditional utility companies that supply energy to potential customers. Competition is primarily based on price and the ease of switching to electricity generated by Tesla's solar energy systems. Tesla also competes with other solar energy companies that provide similar products and services.\n",
      "\n",
      "Regarding competition in general, Tesla acknowledges the highly competitive nature of the worldwide automotive market and expects it to become even more competitive in the future. They believe their ability to generate significant media coverage and word of mouth has been a primary driver of sales leads. Tesla also mentions the cyclical nature of vehicle sales and the volatility it may expose them to.\n",
      "\n",
      "Overall, Tesla recognizes the competition it faces in various markets and emphasizes its competitive advantages such as brand strength, product specifications, and innovative technologies like Autopilot, FSD, and neural network capabilities.\n"
     ]
    }
   ],
   "source": [
    "competition = qa({\"question\": \"What is discussed regarding competition?  Who are the competitors?\"})[\"answer\"]\n",
    "print(competition)"
   ]
  },
  {
   "cell_type": "markdown",
   "metadata": {},
   "source": [
    "## Update Neo4j"
   ]
  },
  {
   "cell_type": "code",
   "execution_count": 78,
   "metadata": {},
   "outputs": [
    {
     "data": {
      "text/plain": [
       "[{'count(l)': 59}]"
      ]
     },
     "execution_count": 78,
     "metadata": {},
     "output_type": "execute_result"
    }
   ],
   "source": [
    "q = \"\"\"\n",
    "MERGE (t:Company {company_name: 'Tesla'})\n",
    "WITH t\n",
    "\n",
    "MATCH (c:Chunk)\n",
    "WITH c,t\n",
    "\n",
    "MERGE (c)<-[l:EMBEDDING]-(t)\n",
    "RETURN count(l)\n",
    "\n",
    "\"\"\"\n",
    "graph.query(q)"
   ]
  },
  {
   "cell_type": "code",
   "execution_count": 81,
   "metadata": {},
   "outputs": [
    {
     "data": {
      "text/plain": [
       "[{'count(l)': 1}]"
      ]
     },
     "execution_count": 81,
     "metadata": {},
     "output_type": "execute_result"
    }
   ],
   "source": [
    "q = f\"\"\"\n",
    "MATCH (t:Company)\n",
    "WHERE t.company_name = 'Tesla'\n",
    "WITH t\n",
    "\n",
    "MERGE (legal:Legal)\n",
    "WITH legal, t\n",
    "\n",
    "MERGE (legal)<-[l:LEGAL_DESCRIPTION {{description: \"{legal}\"}}]-(t)\n",
    "RETURN count(l)\n",
    "\n",
    "\"\"\"\n",
    "graph.query(q)"
   ]
  },
  {
   "cell_type": "code",
   "execution_count": 83,
   "metadata": {},
   "outputs": [
    {
     "data": {
      "text/plain": [
       "[{'count(l)': 1}]"
      ]
     },
     "execution_count": 83,
     "metadata": {},
     "output_type": "execute_result"
    }
   ],
   "source": [
    "q = f\"\"\"\n",
    "MATCH (t:Company)\n",
    "WHERE t.company_name = 'Tesla'\n",
    "WITH t\n",
    "\n",
    "MERGE (BusinessOverview:BusinessOverview)\n",
    "WITH BusinessOverview, t\n",
    "\n",
    "MERGE (BusinessOverview)<-[l:BUSIENSS_OVERVIEW {{description: \"{business_overview}\"}}]-(t)\n",
    "RETURN count(l)\n",
    "\n",
    "\"\"\"\n",
    "graph.query(q)"
   ]
  },
  {
   "cell_type": "code",
   "execution_count": 84,
   "metadata": {},
   "outputs": [
    {
     "data": {
      "text/plain": [
       "[{'count(l)': 1}]"
      ]
     },
     "execution_count": 84,
     "metadata": {},
     "output_type": "execute_result"
    }
   ],
   "source": [
    "q = f\"\"\"\n",
    "MATCH (t:Company)\n",
    "WHERE t.company_name = 'Tesla'\n",
    "WITH t\n",
    "\n",
    "MERGE (RegulatoryImpacts:RegulatoryImpacts)\n",
    "WITH RegulatoryImpacts, t\n",
    "\n",
    "MERGE (RegulatoryImpacts)<-[l:REGULATORY_IMPACTS {{description: \"{regulatory}\"}}]-(t)\n",
    "RETURN count(l)\n",
    "\n",
    "\"\"\"\n",
    "graph.query(q)"
   ]
  },
  {
   "cell_type": "code",
   "execution_count": 86,
   "metadata": {},
   "outputs": [
    {
     "data": {
      "text/plain": [
       "[{'count(l)': 1}]"
      ]
     },
     "execution_count": 86,
     "metadata": {},
     "output_type": "execute_result"
    }
   ],
   "source": [
    "q = f\"\"\"\n",
    "MATCH (t:Company)\n",
    "WHERE t.company_name = 'Tesla'\n",
    "WITH t\n",
    "\n",
    "MERGE (Competition:Competition)\n",
    "WITH Competition, t\n",
    "\n",
    "MERGE (Competition)<-[l:COMPETITION_INFORMATION {{description: \"{competition}\"}}]-(t)\n",
    "RETURN count(l)\n",
    "\n",
    "\"\"\"\n",
    "graph.query(q)"
   ]
  },
  {
   "cell_type": "code",
   "execution_count": null,
   "metadata": {},
   "outputs": [],
   "source": []
  }
 ],
 "metadata": {
  "kernelspec": {
   "display_name": "Python 3 (ipykernel)",
   "language": "python",
   "name": "python3"
  },
  "language_info": {
   "codemirror_mode": {
    "name": "ipython",
    "version": 3
   },
   "file_extension": ".py",
   "mimetype": "text/x-python",
   "name": "python",
   "nbconvert_exporter": "python",
   "pygments_lexer": "ipython3",
   "version": "3.11.5"
  }
 },
 "nbformat": 4,
 "nbformat_minor": 4
}

{
 "cells": [
  {
   "cell_type": "code",
   "execution_count": 4,
   "metadata": {},
   "outputs": [],
   "source": [
    "# pip install openai==0.28\n"
   ]
  },
  {
   "cell_type": "markdown",
   "metadata": {},
   "source": [
    "## Load Libraries and API Configurations"
   ]
  },
  {
   "cell_type": "code",
   "execution_count": null,
   "metadata": {},
   "outputs": [],
   "source": [
    "from langchain.embeddings.openai import OpenAIEmbeddings\n",
    "from langchain.text_splitter import CharacterTextSplitter\n",
    "from langchain.vectorstores import Neo4jVector\n",
    "from langchain.document_loaders import TextLoader\n",
    "from langchain.docstore.document import Document\n",
    "import pandas as pd\n",
    "from langchain.graphs import Neo4jGraph\n",
    "from langchain.vectorstores import Neo4jVector\n",
    "from langchain.embeddings.openai import OpenAIEmbeddings\n",
    "import os\n",
    "import openai\n",
    "from neo4j import GraphDatabase\n",
    "from graphdatascience import GraphDataScience\n",
    "\n",
    "url = \"neo4j+s://483c47f7.databases.neo4j.io\"\n",
    "username = \"neo4j\"\n",
    "password = \"\"\n",
    "\n",
    "graph = Neo4jGraph(\n",
    "    url=url,\n",
    "    username=username,\n",
    "    password=password\n",
    ")\n",
    "\n",
    "openai_api_key = \"\"\n",
    "openai.api_key = openai_api_key\n",
    "\n",
    "\n",
    "os.environ['OPENAI_API_KEY'] = openai_api_key"
   ]
  },
  {
   "cell_type": "markdown",
   "metadata": {},
   "source": [
    "## Load the Text"
   ]
  },
  {
   "cell_type": "code",
   "execution_count": null,
   "metadata": {},
   "outputs": [],
   "source": [
    "# Reference Link:  https://sec-api.io/resources/extract-textual-data-from-edgar-10-k-filings-using-python\n",
    "# Load 1 section\n",
    "\n",
    "SEC_API_KEY = ''\n",
    "from sec_api import ExtractorApi\n",
    "\n",
    "extractorApi = ExtractorApi(SEC_API_KEY)\n",
    "\n",
    "# helper function to pretty print long, single-line text to multi-line text\n",
    "def pprint(text, line_length=100):\n",
    "  words = text.split(' ')\n",
    "  lines = []\n",
    "  current_line = ''\n",
    "  for word in words:\n",
    "    if len(current_line + ' ' + word) <= line_length:\n",
    "      current_line += ' ' + word\n",
    "    else:\n",
    "      lines.append(current_line.strip())\n",
    "      current_line = word\n",
    "  if current_line:\n",
    "    lines.append(current_line.strip())\n",
    "  print('\\n'.join(lines))\n",
    "\n",
    "# URL of Tesla's 10-K filing\n",
    "filing_10_k_url = 'https://www.sec.gov/Archives/edgar/data/1318605/000156459021004599/tsla-10k_20201231.htm'\n",
    "\n",
    "# extract text section \"Item 1 - Business\" from 10-K\n",
    "item_1_text = extractorApi.get_section(filing_10_k_url, '1', 'text')\n",
    "t = pprint(item_1_text[0:1000])\n",
    "t"
   ]
  },
  {
   "cell_type": "code",
   "execution_count": null,
   "metadata": {},
   "outputs": [],
   "source": []
  },
  {
   "cell_type": "code",
   "execution_count": null,
   "metadata": {},
   "outputs": [],
   "source": [
    "# Load several sections\n",
    "item_1_text    = extractorApi.get_section(filing_10_k_url, '1', 'text')\n",
    "item_2_text    = extractorApi.get_section(filing_10_k_url, '2', 'text')\n",
    "item_3_text    = extractorApi.get_section(filing_10_k_url, '3', 'text')"
   ]
  },
  {
   "cell_type": "code",
   "execution_count": null,
   "metadata": {},
   "outputs": [],
   "source": [
    "class Document:\n",
    "    def __init__(self, page_content, metadata=None):\n",
    "        self.page_content = page_content\n",
    "        self.metadata = metadata if metadata is not None else {}\n",
    "\n",
    "# Now create Document instances and pass an empty dictionary for metadata\n",
    "doc1 = Document(page_content=item_1_text, metadata={})\n",
    "doc2 = Document(page_content=item_2_text, metadata={})\n",
    "doc3 = Document(page_content=item_3_text, metadata={})\n",
    "\n",
    "# Combine the documents into a list\n",
    "combined_docs = [doc1, doc2, doc3]\n",
    "\n",
    "# Use the text splitter\n",
    "text_splitter = CharacterTextSplitter(chunk_size=2000, chunk_overlap=20)\n",
    "docs = text_splitter.split_documents(combined_docs)\n",
    "\n"
   ]
  },
  {
   "cell_type": "code",
   "execution_count": null,
   "metadata": {},
   "outputs": [],
   "source": []
  },
  {
   "cell_type": "code",
   "execution_count": null,
   "metadata": {},
   "outputs": [],
   "source": []
  },
  {
   "cell_type": "markdown",
   "metadata": {},
   "source": [
    "## Create a Graph Index"
   ]
  },
  {
   "cell_type": "code",
   "execution_count": null,
   "metadata": {},
   "outputs": [],
   "source": [
    "graph.query(\"\"\"\n",
    "CALL db.index.vector.createNodeIndex(\n",
    "    'TeslaEmbeddings', //index name\n",
    "    'Chunk', //node label\n",
    "    'tesla_embedding', //property name\n",
    "    1536, //vector size\n",
    "    'cosine' //similarity metric\n",
    ")\n",
    "\"\"\")"
   ]
  },
  {
   "cell_type": "markdown",
   "metadata": {},
   "source": [
    "## Use new index to store embeddings"
   ]
  },
  {
   "cell_type": "code",
   "execution_count": null,
   "metadata": {},
   "outputs": [],
   "source": [
    "help(Neo4jVector.from_documents)"
   ]
  },
  {
   "cell_type": "code",
   "execution_count": null,
   "metadata": {},
   "outputs": [],
   "source": [
    "hybrid_db = Neo4jVector.from_documents(\n",
    "    docs, \n",
    "    OpenAIEmbeddings(), \n",
    "    url=url, \n",
    "    username=username, \n",
    "    password=password,\n",
    "    index_name = \"TeslaEmbeddings\",\n",
    "    search_type=\"hybrid\"\n",
    ")"
   ]
  },
  {
   "cell_type": "markdown",
   "metadata": {},
   "source": [
    "## Use new index to store embeddings"
   ]
  },
  {
   "cell_type": "code",
   "execution_count": null,
   "metadata": {},
   "outputs": [],
   "source": [
    "index_name = \"TeslaEmbeddings\"  # default index name\n",
    "\n",
    "store = Neo4jVector.from_existing_index(\n",
    "    OpenAIEmbeddings(),\n",
    "    url=url,\n",
    "    username=username,\n",
    "    password=password,\n",
    "    index_name=index_name,\n",
    ")"
   ]
  },
  {
   "cell_type": "code",
   "execution_count": null,
   "metadata": {},
   "outputs": [],
   "source": [
    "from langchain.chat_models import ChatOpenAI\n",
    "from langchain.chains import RetrievalQAWithSourcesChain\n",
    "\n",
    "chain = RetrievalQAWithSourcesChain.from_chain_type(\n",
    "    ChatOpenAI(temperature=0),\n",
    "    chain_type=\"stuff\",\n",
    "    retriever=store.as_retriever()\n",
    ")"
   ]
  },
  {
   "cell_type": "code",
   "execution_count": null,
   "metadata": {},
   "outputs": [],
   "source": [
    "from langchain.chains import ConversationalRetrievalChain\n",
    "from langchain.memory import ConversationBufferMemory\n",
    "\n",
    "memory = ConversationBufferMemory(memory_key=\"chat_history\", return_messages=True)\n",
    "qa = ConversationalRetrievalChain.from_llm(\n",
    "    ChatOpenAI(temperature=0), store.as_retriever(), memory=memory)"
   ]
  },
  {
   "cell_type": "code",
   "execution_count": null,
   "metadata": {},
   "outputs": [],
   "source": [
    "print(qa({\"question\": \"What are the topics covered in these documents?\"})[\"answer\"])"
   ]
  },
  {
   "cell_type": "code",
   "execution_count": null,
   "metadata": {},
   "outputs": [],
   "source": [
    "legal = qa({\"question\": \"What legal proceedings and potential penalties are discussed in these documents?\"})[\"answer\"]\n",
    "print(legal)"
   ]
  },
  {
   "cell_type": "code",
   "execution_count": null,
   "metadata": {},
   "outputs": [],
   "source": [
    "business_overview = qa({\"question\": \"Provide a business overview.\"})[\"answer\"]\n",
    "print(business_overview)"
   ]
  },
  {
   "cell_type": "code",
   "execution_count": null,
   "metadata": {},
   "outputs": [],
   "source": [
    "regulatory = qa({\"question\": \"Which regulatory impacts and changes are discussed?\"})[\"answer\"]\n",
    "print(regulatory)"
   ]
  },
  {
   "cell_type": "code",
   "execution_count": null,
   "metadata": {
    "scrolled": true
   },
   "outputs": [],
   "source": [
    "competition = qa({\"question\": \"What is discussed regarding competition?  Who are the competitors?\"})[\"answer\"]\n",
    "print(competition)"
   ]
  },
  {
   "cell_type": "markdown",
   "metadata": {},
   "source": [
    "## Update Neo4j"
   ]
  },
  {
   "cell_type": "code",
   "execution_count": null,
   "metadata": {},
   "outputs": [],
   "source": [
    "q = \"\"\"\n",
    "MERGE (t:Company {company_name: 'Tesla'})\n",
    "WITH t\n",
    "\n",
    "MATCH (c:Chunk)\n",
    "WITH c,t\n",
    "\n",
    "MERGE (c)<-[l:EMBEDDING]-(t)\n",
    "RETURN count(l)\n",
    "\n",
    "\"\"\"\n",
    "graph.query(q)"
   ]
  },
  {
   "cell_type": "code",
   "execution_count": null,
   "metadata": {},
   "outputs": [],
   "source": [
    "q = f\"\"\"\n",
    "MATCH (t:Company)\n",
    "WHERE t.company_name = 'Tesla'\n",
    "WITH t\n",
    "\n",
    "MERGE (legal:Legal)\n",
    "WITH legal, t\n",
    "\n",
    "MERGE (legal)<-[l:LEGAL_DESCRIPTION {{description: \"{legal}\"}}]-(t)\n",
    "RETURN count(l)\n",
    "\n",
    "\"\"\"\n",
    "graph.query(q)"
   ]
  },
  {
   "cell_type": "code",
   "execution_count": null,
   "metadata": {},
   "outputs": [],
   "source": [
    "q = f\"\"\"\n",
    "MATCH (t:Company)\n",
    "WHERE t.company_name = 'Tesla'\n",
    "WITH t\n",
    "\n",
    "MERGE (BusinessOverview:BusinessOverview)\n",
    "WITH BusinessOverview, t\n",
    "\n",
    "MERGE (BusinessOverview)<-[l:BUSIENSS_OVERVIEW {{description: \"{business_overview}\"}}]-(t)\n",
    "RETURN count(l)\n",
    "\n",
    "\"\"\"\n",
    "graph.query(q)"
   ]
  },
  {
   "cell_type": "code",
   "execution_count": null,
   "metadata": {},
   "outputs": [],
   "source": [
    "q = f\"\"\"\n",
    "MATCH (t:Company)\n",
    "WHERE t.company_name = 'Tesla'\n",
    "WITH t\n",
    "\n",
    "MERGE (RegulatoryImpacts:RegulatoryImpacts)\n",
    "WITH RegulatoryImpacts, t\n",
    "\n",
    "MERGE (RegulatoryImpacts)<-[l:REGULATORY_IMPACTS {{description: \"{regulatory}\"}}]-(t)\n",
    "RETURN count(l)\n",
    "\n",
    "\"\"\"\n",
    "graph.query(q)"
   ]
  },
  {
   "cell_type": "code",
   "execution_count": null,
   "metadata": {},
   "outputs": [],
   "source": [
    "q = f\"\"\"\n",
    "MATCH (t:Company)\n",
    "WHERE t.company_name = 'Tesla'\n",
    "WITH t\n",
    "\n",
    "MERGE (Competition:Competition)\n",
    "WITH Competition, t\n",
    "\n",
    "MERGE (Competition)<-[l:COMPETITION_INFORMATION {{description: \"{competition}\"}}]-(t)\n",
    "RETURN count(l)\n",
    "\n",
    "\"\"\"\n",
    "graph.query(q)"
   ]
  },
  {
   "cell_type": "code",
   "execution_count": null,
   "metadata": {},
   "outputs": [],
   "source": []
  }
 ],
 "metadata": {
  "kernelspec": {
   "display_name": "Python 3 (ipykernel)",
   "language": "python",
   "name": "python3"
  },
  "language_info": {
   "codemirror_mode": {
    "name": "ipython",
    "version": 3
   },
   "file_extension": ".py",
   "mimetype": "text/x-python",
   "name": "python",
   "nbconvert_exporter": "python",
   "pygments_lexer": "ipython3",
   "version": "3.11.5"
  }
 },
 "nbformat": 4,
 "nbformat_minor": 4
}

{
 "cells": [
  {
   "cell_type": "code",
   "execution_count": null,
   "metadata": {},
   "outputs": [],
   "source": [
    "from neo4j import GraphDatabase\n",
    "from graphdatascience import GraphDataScience\n",
    "import pandas as pd\n",
    "\n",
    "uri = \"bolt://localhost:7687\" # CHANGE TO YOUR PORT NUMBER\n",
    "user = \"neo4j\"\n",
    "password = \"neo4j12345\"       # CHANGE PASSWORD\n",
    "\n",
    "gds = GraphDataScience(uri, auth=(user,password))\n",
    "gds.set_database(\"neo4j\")"
   ]
  },
  {
   "cell_type": "markdown",
   "metadata": {},
   "source": [
    "## Load the Recipe Dataset"
   ]
  },
  {
   "cell_type": "code",
   "execution_count": null,
   "metadata": {},
   "outputs": [],
   "source": [
    "# Set the display options\n",
    "pd.set_option('display.max_columns', None)\n",
    "pd.set_option('display.expand_frame_repr', False)\n",
    "pd.set_option('max_colwidth', None)\n",
    "\n",
    "# Inspect the file\n",
    "gds.run_cypher(\"\"\"\n",
    "LOAD CSV WITH HEADERS FROM \"file:///Cleaned_Recipe_Data_Subset.csv\" AS row\n",
    "WITH row\n",
    "RETURN *\n",
    "LIMIT 1\n",
    "\"\"\")"
   ]
  },
  {
   "cell_type": "code",
   "execution_count": null,
   "metadata": {},
   "outputs": [],
   "source": [
    "import pandas as pd\n",
    "import re\n",
    "import ast\n",
    "import csv\n",
    "\n",
    "def clean_json_like_string(json_like_string):\n",
    "    # Convert JSON-like string to list\n",
    "    items = ast.literal_eval(json_like_string)\n",
    "    # Join list items into a comma-separated string\n",
    "    joined_items = ', '.join(items)\n",
    "    # Remove special characters\n",
    "    cleaned_string = re.sub('[^A-Za-z0-9, ]+', '', joined_items)\n",
    "    return cleaned_string\n",
    "\n",
    "# Load the data from the CSV file\n",
    "file_path = 'C:\\\\Users\\\\TimEa\\\\OneDrive\\\\Data\\\\Cooking_Recipes\\\\RecipeNLG_dataset.csv'\n",
    "data = pd.read_csv(file_path, dtype=str)\n",
    "\n",
    "# Convert all text to lowercase\n",
    "data = data.applymap(str.lower)\n",
    "\n",
    "# Clean the 'ingredients' and 'directions' columns\n",
    "data['ingredients'] = data['ingredients'].apply(clean_json_like_string)\n",
    "data['directions'] = data['directions'].apply(clean_json_like_string)\n",
    "data['NER'] = data['NER'].apply(clean_json_like_string)\n",
    "\n",
    "data.rename(columns={'Unnamed: 0': 'Row_ID'}, inplace=True)\n",
    "data.head(n=1)\n",
    "\n",
    "# Save a limited amount of data\n",
    "df_subset = data.head(n = 10000)\n",
    "\n",
    "# Save the cleaned data back to a new CSV file\n",
    "cleaned_file_path = 'C:\\\\Users\\\\TimEa\\\\AppData\\\\Local\\\\Neo4j\\\\Relate\\\\Data\\\\dbmss\\\\dbms-d40049e8-260c-4863-8dd4-5be31fef11cd\\\\Cleaned_Recipe_Data.csv'\n",
    "data.to_csv(cleaned_file_path, index=False, quoting=csv.QUOTE_ALL)\n",
    "\n",
    "cleaned_file_path = 'C:\\\\Users\\\\TimEa\\\\AppData\\\\Local\\\\Neo4j\\\\Relate\\\\Data\\\\dbmss\\\\dbms-d40049e8-260c-4863-8dd4-5be31fef11cd\\\\import\\\\Cleaned_Recipe_Data_Subset.csv'\n",
    "df_subset.to_csv(cleaned_file_path, index=False, quoting=csv.QUOTE_ALL)\n",
    "\n",
    "data.head()\n"
   ]
  },
  {
   "cell_type": "code",
   "execution_count": null,
   "metadata": {
    "scrolled": true
   },
   "outputs": [],
   "source": [
    "import pandas as pd\n",
    "from io import StringIO\n",
    "\n",
    "# Convert the comma-separated strings to lists\n",
    "data['CommaSeparatedValues'] = data['NER'].str.split(',')\n",
    "\n",
    "# Use explode to expand the lists into separate rows\n",
    "exploded_df = data[['Row_ID', 'CommaSeparatedValues']].explode('CommaSeparatedValues')\n",
    "\n",
    "# Rename the CommaSeparatedValues column\n",
    "exploded_df.rename(columns={'CommaSeparatedValues': 'Ingredient'}, inplace=True)\n",
    "\n",
    "# Display the resulting DataFrame\n",
    "print(exploded_df)"
   ]
  },
  {
   "cell_type": "code",
   "execution_count": null,
   "metadata": {},
   "outputs": [],
   "source": [
    "cleaned_file_path = 'C:\\\\Users\\\\TimEa\\\\OneDrive\\\\Data\\\\Cooking_Recipes\\\\Ingredients.csv'\n",
    "exploded_df.to_csv(cleaned_file_path, index=False)"
   ]
  },
  {
   "cell_type": "code",
   "execution_count": null,
   "metadata": {},
   "outputs": [],
   "source": [
    "cleaned_file_path = 'C:\\\\Users\\\\TimEa\\\\OneDrive\\\\Data\\\\Cooking_Recipes\\\\Cleaned_Recipe_Data.csv'\n",
    "df_subset = data.head(n = 100000)\n",
    "df_subset.to_csv(cleaned_file_path, index=False)"
   ]
  },
  {
   "cell_type": "markdown",
   "metadata": {},
   "source": [
    "# Load Data"
   ]
  },
  {
   "cell_type": "code",
   "execution_count": null,
   "metadata": {},
   "outputs": [],
   "source": [
    "# Delete existing data in the database\n",
    "gds.run_cypher(\"\"\"\n",
    "MATCH (a) DETACH DELETE a\n",
    "\"\"\")"
   ]
  },
  {
   "cell_type": "code",
   "execution_count": null,
   "metadata": {},
   "outputs": [],
   "source": [
    "gds.run_cypher(\"\"\"\n",
    "CREATE CONSTRAINT rowid IF NOT EXISTS FOR (r:Recipe) REQUIRE r.Row_ID IS UNIQUE;\n",
    "\"\"\")"
   ]
  },
  {
   "cell_type": "code",
   "execution_count": null,
   "metadata": {},
   "outputs": [],
   "source": [
    "gds.run_cypher(\"\"\"\n",
    "LOAD CSV WITH HEADERS FROM \"file:///Cleaned_Recipe_Data.csv\" AS row\n",
    "WITH row\n",
    "WHERE row.directions IS NOT NULL AND row.ingredients IS NOT NULL\n",
    "CALL {\n",
    "    WITH row\n",
    "    MERGE (r:Recipe {\n",
    "        Row_ID: toInteger(row.Row_ID),\n",
    "        title: row.title,\n",
    "        directions: row.directions,\n",
    "        link: row.link,\n",
    "        source: row.source,\n",
    "        ingredients: row.ingredients,\n",
    "        NER: row.NER\n",
    "    })\n",
    "} IN TRANSACTIONS OF 1000 ROWS\n",
    ";\n",
    "\n",
    "\"\"\")"
   ]
  },
  {
   "cell_type": "code",
   "execution_count": null,
   "metadata": {},
   "outputs": [],
   "source": [
    "gds.run_cypher(\"\"\"\n",
    "CREATE CONSTRAINT ingredient_name IF NOT EXISTS FOR (r:Ingredient) REQUIRE r.Ingredient_Name IS UNIQUE;\n",
    "\"\"\")"
   ]
  },
  {
   "cell_type": "code",
   "execution_count": null,
   "metadata": {},
   "outputs": [],
   "source": [
    "gds.run_cypher(\"\"\"\n",
    "LOAD CSV WITH HEADERS FROM \"file:///Ingredients.csv\" AS row\n",
    "WITH row\n",
    "WHERE row.Ingredient IS NOT NULL \n",
    "CALL {\n",
    "    WITH row\n",
    "    MERGE (i:Ingredient {Ingredient_Name: row.Ingredient})\n",
    "} IN TRANSACTIONS OF 1000 ROWS\n",
    ";\n",
    "\n",
    "\"\"\")"
   ]
  },
  {
   "cell_type": "code",
   "execution_count": null,
   "metadata": {},
   "outputs": [],
   "source": [
    "gds.run_cypher(\"\"\"\n",
    "LOAD CSV WITH HEADERS FROM 'file:///Ingredients.csv' AS row\n",
    "MATCH (r:Recipe {Row_ID: toInteger(row.Row_ID)}), (i:Ingredient {Ingredient_Name: row.Ingredient})\n",
    "MERGE (r)-[:USES]->(i)\n",
    "\"\"\")"
   ]
  },
  {
   "cell_type": "markdown",
   "metadata": {},
   "source": [
    "## Export into a Neo4j Friendly Import Version"
   ]
  },
  {
   "cell_type": "code",
   "execution_count": null,
   "metadata": {},
   "outputs": [],
   "source": [
    "gds.run_cypher(\"\"\"\n",
    "// Recipe Nodes\n",
    "MATCH (r:Recipe)\n",
    "WITH distinct r\n",
    "LIMIT 10\n",
    "\n",
    "MATCH (r)-[:USES]->(i)\n",
    "WITH distinct r\n",
    "RETURN r.Row_ID as Recipe_ID, r.title as Recipe_Title, r.directions as Directions, r.link as Link, r.source as Source, r.ingredients\n",
    "\"\"\")"
   ]
  },
  {
   "cell_type": "code",
   "execution_count": null,
   "metadata": {},
   "outputs": [],
   "source": [
    "gds.run_cypher(\"\"\"\n",
    "// Ingredient Nodes\n",
    "MATCH (r:Recipe)\n",
    "WITH distinct r\n",
    "LIMIT 10\n",
    "\n",
    "MATCH (r)-[:USES]->(i)\n",
    "RETURN id(i) as Ingredient_ID, trim(i.Ingredient_Name) as Ingredient_Name\n",
    "\"\"\")"
   ]
  },
  {
   "cell_type": "code",
   "execution_count": null,
   "metadata": {},
   "outputs": [],
   "source": [
    "gds.run_cypher(\"\"\"\n",
    "// Recipe to Ingredient Relationships\n",
    "MATCH (r:Recipe)\n",
    "WITH distinct r\n",
    "LIMIT 10\n",
    "\n",
    "MATCH (r)-[:USES]->(i)\n",
    "RETURN r.Row_ID as Recipe_ID, id(i) as Ingredient_ID\n",
    "\"\"\")"
   ]
  },
  {
   "cell_type": "markdown",
   "metadata": {},
   "source": [
    "## Export into a Neo4j Admin Import Version"
   ]
  },
  {
   "cell_type": "code",
   "execution_count": null,
   "metadata": {},
   "outputs": [],
   "source": [
    "gds.run_cypher(\"\"\"\n",
    "// Recipe Nodes\n",
    "MATCH (r:Recipe)\n",
    "WITH distinct r\n",
    "LIMIT 10\n",
    "\n",
    "MATCH (r)-[:USES]->(i)\n",
    "WITH distinct r\n",
    "RETURN r.Row_ID as Recipe_ID, r.title as Recipe_Title, r.directions as Directions, r.link as Link, r.source as Source, r.ingredients\n",
    "\"\"\")"
   ]
  },
  {
   "cell_type": "code",
   "execution_count": null,
   "metadata": {},
   "outputs": [],
   "source": [
    "gds.run_cypher(\"\"\"\n",
    "// Ingredient Nodes\n",
    "MATCH (r:Recipe)\n",
    "WITH distinct r\n",
    "LIMIT 10\n",
    "\n",
    "MATCH (r)-[:USES]->(i)\n",
    "RETURN id(i) as Ingredient_ID, trim(i.Ingredient_Name) as Ingredient_Name\n",
    "\"\"\")"
   ]
  },
  {
   "cell_type": "code",
   "execution_count": null,
   "metadata": {},
   "outputs": [],
   "source": [
    "gds.run_cypher(\"\"\"\n",
    "// Recipe to Ingredient Relationships\n",
    "MATCH (r:Recipe)\n",
    "WITH distinct r\n",
    "LIMIT 10\n",
    "\n",
    "MATCH (r)-[:USES]->(i)\n",
    "RETURN r.Row_ID as Recipe_ID, id(i) as Ingredient_ID\n",
    "\"\"\")"
   ]
  },
  {
   "cell_type": "code",
   "execution_count": null,
   "metadata": {},
   "outputs": [],
   "source": []
  },
  {
   "cell_type": "code",
   "execution_count": null,
   "metadata": {},
   "outputs": [],
   "source": []
  },
  {
   "cell_type": "code",
   "execution_count": null,
   "metadata": {},
   "outputs": [],
   "source": []
  }
 ],
 "metadata": {
  "kernelspec": {
   "display_name": "Python 3 (ipykernel)",
   "language": "python",
   "name": "python3"
  },
  "language_info": {
   "codemirror_mode": {
    "name": "ipython",
    "version": 3
   },
   "file_extension": ".py",
   "mimetype": "text/x-python",
   "name": "python",
   "nbconvert_exporter": "python",
   "pygments_lexer": "ipython3",
   "version": "3.11.5"
  }
 },
 "nbformat": 4,
 "nbformat_minor": 4
}
